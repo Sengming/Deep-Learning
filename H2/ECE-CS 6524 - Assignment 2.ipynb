{
 "cells": [
  {
   "cell_type": "markdown",
   "metadata": {},
   "source": [
    "# ECE-6524 / CS-6524 Deep Learning\n",
    "# Assignment 2\n",
    "\n",
    "In this assignment, **you need to complete the following three sectoins**:\n",
    "1. PyTorch Basics\n",
    "    - Toy example with PyTorch\n",
    "2. Image Classification with PyTorch\n",
    "    - Implement a simple MLP network for image classification\n",
    "    - Implement a convolutional network for image classification\n",
    "    - Experiment with different numbers of layers and optimizers\n",
    "    - Push the performance of your CNN\n",
    "\n",
    "This assignment is inspired and adopted from the official PyTorch tutorial.\n",
    "## Submission guideline\n",
    "\n",
    "1. Click the Save button at the top of the Jupyter Notebook.\n",
    "2. Please make sure to have entered your Virginia Tech PID below.\n",
    "3. Select Cell -> All Output -> Clear. This will clear all the outputs from all cells (but will keep the content of cells).\n",
    "4. Select Cell -> Run All. This will run all the cells in order.\n",
    "5. Once you've rerun everything, select File -> Download as -> PDF via LaTeX\n",
    "6. Look at the PDF file and make sure all your solutions are displayed correctly there. \n",
    "7. Zip the all the files along with this notebook (Please don't include the data)\n",
    "8. Name your PDF file as Assignment2_[YOUR ID NUMBER].\n",
    "9. Submit your zipped file and the PDF **INDEPENDENTLY**.\n",
    "\n",
    "**While you are encouraged to discuss with your peers, <span style=\"color:blue\">all work submitted is expected to be your own.</span> <span style=\"color:red\">If you use any information from other resources (e.g. online materials), you are required to cite it below you VT PID. Any violation will result in a 0 mark for the assignment.</span>**"
   ]
  },
  {
   "cell_type": "markdown",
   "metadata": {},
   "source": [
    "### Please Write Your VT PID Here: \n",
    "906161549\n",
    "### Reference (if any):"
   ]
  },
  {
   "cell_type": "markdown",
   "metadata": {},
   "source": [
    "In this homework, you would need to use **Python 3.6+** along with the following packages:\n",
    "```\n",
    "1. pytorch 1.2\n",
    "2. torchvision\n",
    "3. numpy\n",
    "4. matplotlib\n",
    "```\n",
    "To install pytorch, please follow the instructions on the [Official website](https://pytorch.org/). In addition, the [official document](https://pytorch.org/docs/stable/) could be very helpful when you want to find certain functionalities. \n",
    "\n"
   ]
  },
  {
   "cell_type": "markdown",
   "metadata": {},
   "source": [
    "# Section 1. PyTorch Basics [30 pts]"
   ]
  },
  {
   "cell_type": "markdown",
   "metadata": {},
   "source": [
    "Simply put, PyTorch is a **Tensor** library like Numpy. These two libraries similarly provide useful and efficient APIs for you to deal with your tensor data. What really differentiate PyTorch from Numpy are the following two features:\n",
    "1. Numerical operations that can **run on GPUs** (more than 10x speedup)\n",
    "2. Automatic differentiation for building and training neural networks\n",
    "\n",
    "In this section, we will walk through some simple example, and see how the automatic differentiation functionality can make your life much easier."
   ]
  },
  {
   "cell_type": "markdown",
   "metadata": {},
   "source": [
    "## 1.1. Automatic Differentiation\n",
    "Gradient descent is the driving force of the deep learning field. In the lectures and assignment 1, we learned how to derive the gradient for a given function, and implement methods for calculating and performing gradient descents. We also see how we can manually implement the backward and forward functions for the simple NN example. While implementing these functions may not be a big deal for a small network, it may get very nasty when we want to build something with tens of hundreds of layers.\n",
    "\n",
    "In PyTorch (as well as other major deep learning libraries), we can use autograd ([automatic differentiation](https://en.wikipedia.org/wiki/Automatic_differentiation)) to handle the tedious computation of backward passes. When doing forward passes with autograd, we are essentially defining a **computational graph**, while the nodes in the graph are **tensors**, the edges are the functions that produce output tensors (e.g. ReLU, Linear, Convolutional Layer) given the input tensors. To do backpropagation, we can simply backtrack through this graph to compute gradients. \n",
    "\n",
    "This may sound a little bit abstract, so let's take a look at the example:"
   ]
  },
  {
   "cell_type": "code",
   "execution_count": 16,
   "metadata": {},
   "outputs": [
    {
     "name": "stdout",
     "output_type": "stream",
     "text": [
      "tensor([[ 1.3366, -0.2947],\n",
      "        [-0.8357, -0.3957]], requires_grad=True)\n",
      "tensor([[-0.2059, -0.1954],\n",
      "        [ 0.3798,  1.9009]], requires_grad=True)\n",
      "tensor([[ 1.1307, -0.4901],\n",
      "        [-0.4559,  1.5052]], grad_fn=<AddBackward0>)\n",
      "tensor(1.6899, grad_fn=<SumBackward0>)\n",
      "tensor(-8.3101, grad_fn=<SubBackward0>)\n",
      "-----gradient-----\n",
      "None\n",
      "None\n"
     ]
    }
   ],
   "source": [
    "import torch # import pytorch.\n",
    "\n",
    "target = 10.\n",
    "\n",
    "# create a matrix of size 2x2. Each with value draws from standard normal distribution.\n",
    "x = torch.randn(2, 2, requires_grad=True) \n",
    "y = torch.randn(2, 2, requires_grad=True)\n",
    "\n",
    "a = x + y\n",
    "b = a.sum()\n",
    "loss = b - target\n",
    "\n",
    "# print out each tensor:\n",
    "print(x)\n",
    "print(y)\n",
    "print(a)\n",
    "print(b)\n",
    "print(loss)\n",
    "\n",
    "print(\"-----gradient-----\")\n",
    "print(x.grad)\n",
    "print(y.grad)"
   ]
  },
  {
   "cell_type": "markdown",
   "metadata": {},
   "source": [
    "In the above example, we have seen a few things:\n",
    "1. `requires_grad` flag: If false, we can safely exclude this tensor (and its subgraph) from gradient computation and therefore increase efficiency.\n",
    "2. `grad_fn`: we can see that once an operation is done to a tensor, the output tensor is bound to a backward function associated to the operation. In this case, we have Add, Sum, and Sub.\n",
    "\n",
    "However, even if we set `requires_grad=True`, we still don't have gradient for `x` and `y`. This is because that we haven't performed the backpropagation yet. So let's do it:"
   ]
  },
  {
   "cell_type": "code",
   "execution_count": 17,
   "metadata": {},
   "outputs": [
    {
     "name": "stdout",
     "output_type": "stream",
     "text": [
      "-----gradient-----\n",
      "tensor([[1., 1.],\n",
      "        [1., 1.]])\n",
      "tensor([[1., 1.],\n",
      "        [1., 1.]])\n"
     ]
    }
   ],
   "source": [
    "# perform backpropagation from this \"node\"\n",
    "loss.backward()\n",
    "print('-----gradient-----')\n",
    "print(x.grad)\n",
    "print(y.grad)"
   ]
  },
  {
   "cell_type": "markdown",
   "metadata": {},
   "source": [
    "Great, seems like we can perform gradient descent without writing backwards function! Now, let's see a simple toy example on how we can fit some weights `w1` and `w2` with random input `x` and target `y`: "
   ]
  },
  {
   "cell_type": "code",
   "execution_count": 18,
   "metadata": {},
   "outputs": [
    {
     "name": "stdout",
     "output_type": "stream",
     "text": [
      "iteration 99: 602.2464599609375\n",
      "iteration 199: 2.841336250305176\n",
      "iteration 299: 0.020719129592180252\n",
      "iteration 399: 0.0003956901782657951\n",
      "iteration 499: 5.4059251851867884e-05\n"
     ]
    }
   ],
   "source": [
    "dtype = torch.float\n",
    "#device = torch.device(\"cpu\")\n",
    "device = torch.device(\"cuda:0\") # Uncomment this to run on GPU\n",
    "\n",
    "# N is batch size; D_in is input dimension;\n",
    "# H is hidden dimension; D_out is output dimension.\n",
    "N, D_in, H, D_out = 64, 1000, 100, 10\n",
    "\n",
    "# Create random Tensors to hold input and outputs.\n",
    "# Setting requires_grad=False indicates that we do not need to compute gradients\n",
    "# with respect to these Tensors during the backward pass.\n",
    "x = torch.randn(N, D_in, device=device, dtype=dtype)\n",
    "y = torch.randn(N, D_out, device=device, dtype=dtype)\n",
    "\n",
    "# Create random Tensors for weights.\n",
    "# Setting requires_grad=True indicates that we want to compute gradients with\n",
    "# respect to these Tensors during the backward pass.\n",
    "w1 = torch.randn(D_in, H, device=device, dtype=dtype, requires_grad=True)\n",
    "w2 = torch.randn(H, D_out, device=device, dtype=dtype, requires_grad=True)\n",
    "\n",
    "learning_rate = 1e-6\n",
    "for t in range(500):\n",
    "    # Forward pass: compute predicted y using operations on Tensors; these\n",
    "    # are exactly the same operations we used to compute the forward pass using\n",
    "    # Tensors, but we do not need to keep references to intermediate values since\n",
    "    # we are not implementing the backward pass by hand.\n",
    "    y_pred = x.mm(w1).clamp(min=0).mm(w2)\n",
    "\n",
    "    # Compute and print loss using operations on Tensors.\n",
    "    # Now loss is a Tensor of shape (1,)\n",
    "    # loss.item() gets the scalar value held in the loss.\n",
    "    loss = (y_pred - y).pow(2).sum()\n",
    "    if t % 100 == 99:\n",
    "        print(f'iteration {t}: {loss.item()}')\n",
    "    # Use autograd to compute the backward pass. This call will compute the\n",
    "    # gradient of loss with respect to all Tensors with requires_grad=True.\n",
    "    # After this call w1.grad and w2.grad will be Tensors holding the gradient\n",
    "    # of the loss with respect to w1 and w2 respectively.\n",
    "    loss.backward()\n",
    "\n",
    "    # Manually update weights using gradient descent. Wrap in torch.no_grad()\n",
    "    # because weights have requires_grad=True, but we don't need to track this\n",
    "    # in autograd.  (because we don't need the gradient for the operation \n",
    "    # learning_rate * w1.grad)\n",
    "    # An alternative way is to operate on weight.data and weight.grad.data.\n",
    "    # Recall that tensor.data gives a tensor that shares the storage with\n",
    "    # tensor, but doesn't track history.\n",
    "    # You can also use torch.optim.SGD to achieve this.\n",
    "    with torch.no_grad():\n",
    "        w1 -= learning_rate * w1.grad\n",
    "        w2 -= learning_rate * w2.grad\n",
    "\n",
    "        # Manually zero the gradients after updating weights\n",
    "        w1.grad.zero_()\n",
    "        w2.grad.zero_()"
   ]
  },
  {
   "cell_type": "markdown",
   "metadata": {},
   "source": [
    "## 1.2. `nn` Module\n",
    "Computational graphs and autograd are a very powerful paradigm for defining complex operators and automatically taking derivatives; however for large neural networks raw autograd can be a bit too low-level.\n",
    "\n",
    "When building neural networks we frequently think of arranging the computation into layers, some of which have learnable parameters which will be optimized during learning.\n",
    "\n",
    "In PyTorch, the nn package serves this purpose. The nn package defines a set of Modules, which are roughly equivalent to neural network layers. A Module receives input Tensors and computes output Tensors, but may also hold internal state such as Tensors containing learnable parameters. The nn package also defines a set of useful loss functions that are commonly used when training neural networks.\n",
    "\n",
    "Now, let's see how our simple NN could be implemented using the nn module."
   ]
  },
  {
   "cell_type": "code",
   "execution_count": 19,
   "metadata": {},
   "outputs": [
    {
     "name": "stdout",
     "output_type": "stream",
     "text": [
      "iteration 99: 2.295413017272949\n",
      "iteration 199: 0.04235706478357315\n",
      "iteration 299: 0.0015720350202172995\n",
      "iteration 399: 7.805681525496766e-05\n",
      "iteration 499: 4.486465513764415e-06\n"
     ]
    }
   ],
   "source": [
    "import torch.nn as nn\n",
    "# N is batch size; D_in is input dimension;\n",
    "# H is hidden dimension; D_out is output dimension.\n",
    "N, D_in, H, D_out = 64, 1000, 100, 10\n",
    "\n",
    "# Create random Tensors to hold inputs and outputs\n",
    "x = torch.randn(N, D_in)\n",
    "y = torch.randn(N, D_out)\n",
    "\n",
    "# Use the nn package to define our model as a sequence of layers. nn.Sequential\n",
    "# is a Module which contains other Modules, and applies them in sequence to\n",
    "# produce its output. Each Linear Module computes output from input using a\n",
    "# linear function, and holds internal Tensors for its weight and bias.\n",
    "model = nn.Sequential(\n",
    "    nn.Linear(D_in, H),\n",
    "    nn.ReLU(),\n",
    "    nn.Linear(H, D_out),\n",
    ")\n",
    "\n",
    "# The nn package also contains definitions of popular loss functions; in this\n",
    "# case we will use Mean Squared Error (MSE) as our loss function.\n",
    "loss_fn = nn.MSELoss(reduction='sum')\n",
    "\n",
    "learning_rate = 1e-4\n",
    "for t in range(500):\n",
    "    # Forward pass: compute predicted y by passing x to the model. Module objects\n",
    "    # override the __call__ operator so you can call them like functions. When\n",
    "    # doing so you pass a Tensor of input data to the Module and it produces\n",
    "    # a Tensor of output data.\n",
    "    y_pred = model(x)\n",
    "\n",
    "    # Compute and print loss. We pass Tensors containing the predicted and true\n",
    "    # values of y, and the loss function returns a Tensor containing the\n",
    "    # loss.\n",
    "    loss = loss_fn(y_pred, y)\n",
    "    if t % 100 == 99:\n",
    "        print(f'iteration {t}: {loss.item()}')\n",
    "\n",
    "    # Zero the gradients before running the backward pass.\n",
    "    model.zero_grad()\n",
    "\n",
    "    # Backward pass: compute gradient of the loss with respect to all the learnable\n",
    "    # parameters of the model. Internally, the parameters of each Module are stored\n",
    "    # in Tensors with requires_grad=True, so this call will compute gradients for\n",
    "    # all learnable parameters in the model.\n",
    "    loss.backward()\n",
    "\n",
    "    # Update the weights using gradient descent. Each parameter is a Tensor, so\n",
    "    # we can access its gradients like we did before.\n",
    "    with torch.no_grad():\n",
    "        for param in model.parameters():\n",
    "            param -= learning_rate * param.grad"
   ]
  },
  {
   "cell_type": "markdown",
   "metadata": {},
   "source": [
    "So far, we have been updating the model parameters manually with `torch.no_grad()`. However, if we want to use optimization algorithms other than SGD, it might get a bit nasty to do it manually. Instead of manually doing this, we can use `optim` pacakge to help optimize our model: "
   ]
  },
  {
   "cell_type": "code",
   "execution_count": 20,
   "metadata": {},
   "outputs": [
    {
     "name": "stdout",
     "output_type": "stream",
     "text": [
      "iteration 99: 1.973178744316101\n",
      "iteration 199: 0.02639385312795639\n",
      "iteration 299: 0.000612303614616394\n",
      "iteration 399: 1.777492434484884e-05\n",
      "iteration 499: 5.776807938673301e-07\n"
     ]
    }
   ],
   "source": [
    "N, D_in, H, D_out = 64, 1000, 100, 10\n",
    "\n",
    "# Create random Tensors to hold inputs and outputs\n",
    "x = torch.randn(N, D_in)\n",
    "y = torch.randn(N, D_out)\n",
    "\n",
    "# Use the nn package to define our model and loss function.\n",
    "model = nn.Sequential(\n",
    "    nn.Linear(D_in, H),\n",
    "    nn.ReLU(),\n",
    "    nn.Linear(H, D_out),\n",
    ")\n",
    "loss_fn = torch.nn.MSELoss(reduction='sum')\n",
    "\n",
    "# Use the optim package to define an Optimizer that will update the weights of\n",
    "# the model for us. \n",
    "learning_rate = 1e-4\n",
    "optimizer = torch.optim.SGD(model.parameters(), lr=learning_rate)\n",
    "for t in range(500):\n",
    "    # Forward pass: compute predicted y by passing x to the model.\n",
    "    y_pred = model(x)\n",
    "\n",
    "    # Compute and print loss.\n",
    "    loss = loss_fn(y_pred, y)\n",
    "    if t % 100 == 99:\n",
    "        print(f'iteration {t}: {loss.item()}')\n",
    "\n",
    "    # Before the backward pass, use the optimizer object to zero all of the\n",
    "    # gradients for the variables it will update (which are the learnable\n",
    "    # weights of the model). This is because by default, gradients are\n",
    "    # accumulated in buffers( i.e, not overwritten) whenever .backward()\n",
    "    # is called. Checkout docs of torch.autograd.backward for more details.\n",
    "    optimizer.zero_grad()\n",
    "\n",
    "    # Backward pass: compute gradient of the loss with respect to model\n",
    "    # parameters\n",
    "    loss.backward()\n",
    "\n",
    "    # Calling the step function on an Optimizer makes an update to its\n",
    "    # parameters\n",
    "    optimizer.step()"
   ]
  },
  {
   "cell_type": "markdown",
   "metadata": {},
   "source": [
    "Sometimes you will want to specify models that are more complex than a sequence of existing Modules; for these cases you can define your own Modules by subclassing nn.Module and defining a forward which receives input Tensors and produces output Tensors using other modules or other autograd operations on Tensors.\n",
    "\n",
    "For example, we can implement our 2-layer simple NN as the following:"
   ]
  },
  {
   "cell_type": "code",
   "execution_count": 21,
   "metadata": {},
   "outputs": [
    {
     "name": "stdout",
     "output_type": "stream",
     "text": [
      "iteration 99: 2.658125400543213\n",
      "iteration 199: 0.05768189579248428\n",
      "iteration 299: 0.0021922183223068714\n",
      "iteration 399: 0.00010241292329737917\n",
      "iteration 499: 5.393704668676946e-06\n"
     ]
    }
   ],
   "source": [
    "class TwoLayerNet(nn.Module):\n",
    "    def __init__(self, D_in, H, D_out):\n",
    "        \"\"\"\n",
    "        In the constructor we instantiate two nn.Linear modules and assign them as\n",
    "        member variables.\n",
    "        \"\"\"\n",
    "        super(TwoLayerNet, self).__init__()\n",
    "        self.linear1 = nn.Linear(D_in, H)\n",
    "        self.linear2 = nn.Linear(H, D_out)\n",
    "\n",
    "    def forward(self, x):\n",
    "        \"\"\"\n",
    "        In the forward function we accept a Tensor of input data and we must return\n",
    "        a Tensor of output data. We can use Modules defined in the constructor as\n",
    "        well as arbitrary operators on Tensors.\n",
    "        \"\"\"\n",
    "        h_relu = self.linear1(x).clamp(min=0)\n",
    "        y_pred = self.linear2(h_relu)\n",
    "        return y_pred\n",
    "\n",
    "\n",
    "# N is batch size; D_in is input dimension;\n",
    "# H is hidden dimension; D_out is output dimension.\n",
    "N, D_in, H, D_out = 64, 1000, 100, 10\n",
    "\n",
    "# Create random Tensors to hold inputs and outputs\n",
    "x = torch.randn(N, D_in)\n",
    "y = torch.randn(N, D_out)\n",
    "\n",
    "# Construct our model by instantiating the class defined above\n",
    "model = TwoLayerNet(D_in, H, D_out)\n",
    "\n",
    "# Construct our loss function and an Optimizer. The call to model.parameters()\n",
    "# in the SGD constructor will contain the learnable parameters of the two\n",
    "# nn.Linear modules which are members of the model.\n",
    "criterion = nn.MSELoss(reduction='sum')\n",
    "optimizer = torch.optim.SGD(model.parameters(), lr=1e-4)\n",
    "for t in range(500):\n",
    "    # Forward pass: Compute predicted y by passing x to the model\n",
    "    y_pred = model(x)\n",
    "\n",
    "    # Compute and print loss\n",
    "    loss = criterion(y_pred, y)\n",
    "    if t % 100 == 99:\n",
    "        print(f'iteration {t}: {loss.item()}')\n",
    "\n",
    "    # Zero gradients, perform a backward pass, and update the weights.\n",
    "    optimizer.zero_grad()\n",
    "    loss.backward()\n",
    "    optimizer.step()"
   ]
  },
  {
   "cell_type": "markdown",
   "metadata": {},
   "source": [
    "## 1.3. Warm-up: Two-moon datasets [30 pts]\n",
    "Now, let's use PyTorch to solve some synthetic datasets. In previous assignment, we have to write some codes to create training batches. Again, this can also be done with PyTorch `DataLoader`. The `DataLoader` utilizes parallel workers to read and prepare batches for you, which can greatly speedup the code when your time bottleneck is on file I/O.\n",
    "\n",
    "Here, we show a simple example that can create a dataloader from numpy data:"
   ]
  },
  {
   "cell_type": "code",
   "execution_count": 22,
   "metadata": {},
   "outputs": [
    {
     "data": {
      "image/png": "[encoded data removed]",
      "text/plain": [
       "<Figure size 432x288 with 1 Axes>"
      ]
     },
     "metadata": {
      "needs_background": "light"
     },
     "output_type": "display_data"
    }
   ],
   "source": [
    "import numpy as np\n",
    "import matplotlib.pyplot as plt\n",
    "\n",
    "X_train = np.loadtxt('data/X1_train.csv', delimiter=',')\n",
    "X_test = np.loadtxt('data/X1_test.csv', delimiter=',')\n",
    "y_train = np.loadtxt('data/y1_train.csv', delimiter=',')\n",
    "y_test = np.loadtxt('data/y1_test.csv', delimiter=',')\n",
    "\n",
    "# Plot it to see why is it called two-moon dataset\n",
    "plt.scatter(X_train[:, 0], X_train[:, 1], c=y_train);"
   ]
  },
  {
   "cell_type": "markdown",
   "metadata": {},
   "source": [
    "Now, let's create a PyTorch `DataLoader`:"
   ]
  },
  {
   "cell_type": "code",
   "execution_count": 23,
   "metadata": {},
   "outputs": [],
   "source": [
    "from torch.utils.data import TensorDataset, DataLoader\n",
    "batch_size = 64 # mini-batch size\n",
    "num_workers = 4 # how many parallel workers are we gonna use for reading data\n",
    "shuffle = True # shuffle the dataset\n",
    "\n",
    "# Convert numpy array import torch tensor\n",
    "X_train = torch.FloatTensor(X_train)\n",
    "X_test = torch.FloatTensor(X_test)\n",
    "y_train = torch.LongTensor(y_train.reshape(-1, 1))\n",
    "y_test = torch.LongTensor(y_test.reshape(-1, 1))\n",
    "\n",
    "# First, create a dataset from torch tensor. A dataset define how to read data\n",
    "# and process data for creating mini-batches.\n",
    "train_dataset = TensorDataset(X_train, y_train)\n",
    "train_loader = DataLoader(train_dataset, batch_size=batch_size, \n",
    "                          num_workers=num_workers, shuffle=shuffle)"
   ]
  },
  {
   "cell_type": "markdown",
   "metadata": {},
   "source": [
    "Below, we provide a simple example on how to train your model with this dataloader:"
   ]
  },
  {
   "cell_type": "code",
   "execution_count": 24,
   "metadata": {},
   "outputs": [
    {
     "name": "stdout",
     "output_type": "stream",
     "text": [
      "Epcoh 0: 5.72626006603241\n",
      "Epcoh 1: 3.136307328939438\n",
      "Epcoh 2: 2.9289086312055588\n",
      "Epcoh 3: 2.9055305272340775\n",
      "Epcoh 4: 2.893790304660797\n"
     ]
    }
   ],
   "source": [
    "epoch = 5 # an epoch means looping through all the data in the datasets\n",
    "lr = 1e-1\n",
    "\n",
    "# create a simple model that is probably not gonna work well\n",
    "model = nn.Linear(X_train.size(1), 1)\n",
    "optim = torch.optim.SGD(model.parameters(), lr=lr)\n",
    "\n",
    "for e in range(epoch):\n",
    "    loss_epoch = 0\n",
    "    # loop through train loader to get x and y\n",
    "    for x, y in train_loader:\n",
    "        optim.zero_grad()\n",
    "        y_pred = model(x)\n",
    "        # !!WARNING!!\n",
    "        # THIS IS A CLASSIFICATION TASK, SO YOU SHOULD NOT\n",
    "        # USE THIS LOSS FUNCTION. \n",
    "        loss = (y_pred - y.float()).abs().mean()\n",
    "        loss.backward()\n",
    "        optim.step()\n",
    "        loss_epoch += loss.item()\n",
    "    print(f'Epcoh {e}: {loss_epoch}')"
   ]
  },
  {
   "cell_type": "markdown",
   "metadata": {},
   "source": [
    "### 1.3.1 Your Simple NN [30 pts]\n",
    "Now, it is time for you to implement your own model for this classification task. Your job here is to:\n",
    "1. Complete the SimpleNN class. It should be a 2- or 3-layer NN with proper non-linearity.\n",
    "2. Train your model with SGD optimizer.\n",
    "3. Tune your model a bit so you can achieve at least 80% accuracy on training set.\n",
    "Hint: you might want to look up `nn.ReLU`, `nn.Sigmoid`, `nn.BCELoss` in the [official document](https://pytorch.org/docs/stable/). You are allowed to freely pick the hyperparameters of your model."
   ]
  },
  {
   "cell_type": "code",
   "execution_count": 25,
   "metadata": {},
   "outputs": [],
   "source": [
    "class SimpleNN(nn.Module):\n",
    "    \n",
    "    def __init__(self, X_train, y_train):\n",
    "        super().__init__()\n",
    "        ################################################################################\n",
    "        # TODO:                                                                        #\n",
    "        # Construct your small feedforward NN here.                                    #\n",
    "        ################################################################################\n",
    "        inputLayerWidth = X_train.size(1)\n",
    "        hiddenLayerWidth = X_train.size(1)\n",
    "        outputLayerWidth = y_train.size(1)\n",
    "        \n",
    "        self.linear1 = nn.Linear(inputLayerWidth, hiddenLayerWidth)\n",
    "        self.linear2 = nn.Linear(hiddenLayerWidth, hiddenLayerWidth)\n",
    "        self.linear3 = nn.Linear(hiddenLayerWidth, outputLayerWidth)\n",
    "        self.relu = nn.ReLU()\n",
    "        self.sigmoid = nn.Sigmoid()\n",
    "        \n",
    "        ################################################################################\n",
    "        #                                 END OF YOUR CODE                             #\n",
    "        ################################################################################\n",
    "        \n",
    "    def forward(self, x):\n",
    "        ################################################################################\n",
    "        # TODO:                                                                        #\n",
    "        # feed the input to your network, and output the predictions.                  #\n",
    "        ################################################################################\n",
    "    \n",
    "        # Create ReLU hidden layers, sigmoid output function\n",
    "        x = self.relu(self.linear1(x))\n",
    "        x = self.relu(self.linear2(x))\n",
    "        y_pred = self.sigmoid(self.linear3(x))\n",
    "        return y_pred\n",
    "        \n",
    "        ################################################################################\n",
    "        #                                 END OF YOUR CODE                             #\n",
    "        ################################################################################"
   ]
  },
  {
   "cell_type": "code",
   "execution_count": 26,
   "metadata": {},
   "outputs": [
    {
     "name": "stdout",
     "output_type": "stream",
     "text": [
      "Epcoh 0: 8.27334189414978\n",
      "Epcoh 1: 8.009652972221375\n",
      "Epcoh 2: 7.808457553386688\n",
      "Epcoh 3: 7.688997268676758\n",
      "Epcoh 4: 7.604220151901245\n",
      "Epcoh 5: 7.532839238643646\n",
      "Epcoh 6: 7.4714436531066895\n",
      "Epcoh 7: 7.408111929893494\n",
      "Epcoh 8: 7.336523234844208\n",
      "Epcoh 9: 7.25484037399292\n",
      "Epcoh 10: 7.159810185432434\n",
      "Epcoh 11: 7.049096763134003\n",
      "Epcoh 12: 6.931168973445892\n",
      "Epcoh 13: 6.806959748268127\n",
      "Epcoh 14: 6.669008255004883\n",
      "Epcoh 15: 6.5340787172317505\n",
      "Epcoh 16: 6.398499071598053\n",
      "Epcoh 17: 6.25496244430542\n",
      "Epcoh 18: 6.111755728721619\n",
      "Epcoh 19: 5.977786213159561\n",
      "Epcoh 20: 5.841543942689896\n",
      "Epcoh 21: 5.717463463544846\n",
      "Epcoh 22: 5.590862601995468\n",
      "Epcoh 23: 5.482297956943512\n",
      "Epcoh 24: 5.373352468013763\n",
      "Epcoh 25: 5.267249196767807\n",
      "Epcoh 26: 5.179555654525757\n",
      "Epcoh 27: 5.086765766143799\n",
      "Epcoh 28: 5.00045046210289\n",
      "Epcoh 29: 4.92561000585556\n",
      "Epcoh 30: 4.852044641971588\n",
      "Epcoh 31: 4.785946846008301\n",
      "Epcoh 32: 4.730055630207062\n",
      "Epcoh 33: 4.670458257198334\n",
      "Epcoh 34: 4.63332012295723\n",
      "Epcoh 35: 4.576793313026428\n",
      "Epcoh 36: 4.529818147420883\n",
      "Epcoh 37: 4.4983831346035\n",
      "Epcoh 38: 4.464624464511871\n",
      "Epcoh 39: 4.429164111614227\n",
      "Epcoh 40: 4.386921405792236\n",
      "Epcoh 41: 4.359709054231644\n",
      "Epcoh 42: 4.334485292434692\n",
      "Epcoh 43: 4.310393869876862\n",
      "Epcoh 44: 4.288560211658478\n",
      "Epcoh 45: 4.275322705507278\n",
      "Epcoh 46: 4.252875328063965\n",
      "Epcoh 47: 4.237092673778534\n",
      "Epcoh 48: 4.222730070352554\n",
      "Epcoh 49: 4.208824783563614\n"
     ]
    },
    {
     "data": {
      "text/plain": [
       "[<matplotlib.lines.Line2D at 0x7f864092e090>]"
      ]
     },
     "execution_count": 26,
     "metadata": {},
     "output_type": "execute_result"
    },
    {
     "data": {
      "image/png": "[encoded data removed]",
      "text/plain": [
       "<Figure size 432x288 with 1 Axes>"
      ]
     },
     "metadata": {
      "needs_background": "light"
     },
     "output_type": "display_data"
    }
   ],
   "source": [
    "epoch = 50 # an epoch means looping through all the data in the datasets\n",
    "lr = 1e-2\n",
    "\n",
    "# create a simple model that is probably not gonna work well\n",
    "\n",
    "################################################################################\n",
    "# TODO:                                                                        #\n",
    "# Initialize your model and SGD optimizer here.                                #\n",
    "################################################################################\n",
    "model = SimpleNN(X_train, y_train)\n",
    "model.to(device)\n",
    "optim = torch.optim.SGD(model.parameters(), lr=lr, momentum=0.8)\n",
    "bce_criterion = nn.BCELoss(reduction='mean')\n",
    "\n",
    "################################################################################\n",
    "#                                 END OF YOUR CODE                             #\n",
    "################################################################################\n",
    "loss_hist = []\n",
    "\n",
    "for e in range(epoch):\n",
    "    loss_epoch = 0\n",
    "    ################################################################################\n",
    "    # TODO:                                                                        #\n",
    "    # Loop through the dataloader and train your model with nn.BCELoss.            #\n",
    "    ################################################################################\n",
    "    for x, y in train_loader:\n",
    "        x = x.to(device)\n",
    "        y = y.to(device)\n",
    "        \n",
    "        y_pred = model(x)\n",
    "        #import pdb; pdb.set_trace()\n",
    "\n",
    "        #loss = (y_pred - y.float()).pow(2).mean()\n",
    "        loss = bce_criterion(y_pred, y.float())\n",
    "        \n",
    "        optim.zero_grad()\n",
    "        loss.backward()\n",
    "        optim.step()\n",
    "        \n",
    "        loss_epoch += loss.item()\n",
    "    loss_hist.append(loss_epoch)\n",
    "    print(f'Epcoh {e}: {loss_epoch}')\n",
    "\n",
    "plt.plot(loss_hist)\n",
    "    ################################################################################\n",
    "    #                                 END OF YOUR CODE                             #\n",
    "    ################################################################################"
   ]
  },
  {
   "cell_type": "code",
   "execution_count": 27,
   "metadata": {},
   "outputs": [],
   "source": [
    "# helper function for computing accuracy\n",
    "def get_acc(pred, y):\n",
    "    pred = pred.float()\n",
    "    y = y.float()\n",
    "    return (y==pred).sum().float()/y.size(0)*100."
   ]
  },
  {
   "cell_type": "markdown",
   "metadata": {},
   "source": [
    "Evaluate your accuracy:"
   ]
  },
  {
   "cell_type": "code",
   "execution_count": 28,
   "metadata": {},
   "outputs": [
    {
     "name": "stdout",
     "output_type": "stream",
     "text": [
      "Training accuracy: 84.57142639160156, Testing accuracy: 84.0\n"
     ]
    }
   ],
   "source": [
    "X_train = X_train.to(device)\n",
    "y_train = y_train.to(device)\n",
    "X_test = X_test.to(device)\n",
    "y_test = y_test.to(device)\n",
    "y_pred = y_pred.to(device)\n",
    "y_pred = (model(X_train) > 0.5)\n",
    "train_acc = get_acc(y_pred, y_train)\n",
    "\n",
    "y_pred = (model(X_test) > 0.5)\n",
    "test_acc = get_acc(y_pred, y_test)\n",
    "print(f'Training accuracy: {train_acc}, Testing accuracy: {test_acc}')"
   ]
  },
  {
   "cell_type": "markdown",
   "metadata": {},
   "source": [
    "# Section 2. Image Classification with CNN [70 pts]\n",
    "Now, we are back to the image classification problem. In this section, our goal is to, again, train models on CIFAR-10 to perform image classification. Your tasks here are to:\n",
    "1. Build and Train a simple feed-forward Neural Network (consists of only nn.Linear layer with activation function) for the classification task\n",
    "2. Build and Train a **Convolutional** Neural Network (CNN) for the classification task\n",
    "3. Try different settings for training your CNN\n",
    "4. Reproduce"
   ]
  },
  {
   "cell_type": "markdown",
   "metadata": {},
   "source": [
    "In the following cell, we provide the code for creating a CIFAR10 dataloader. As you can see, PyTorch's `torchvision` package actually has an interface for the CIFAR10 dataset: "
   ]
  },
  {
   "cell_type": "code",
   "execution_count": 29,
   "metadata": {},
   "outputs": [
    {
     "name": "stdout",
     "output_type": "stream",
     "text": [
      "Files already downloaded and verified\n",
      "Files already downloaded and verified\n"
     ]
    }
   ],
   "source": [
    "import torchvision\n",
    "import torchvision.transforms as transforms\n",
    "\n",
    "# Preprocessing steps on the training/testing data. You can define your own data augmentation\n",
    "# here, and PyTorch's API will do the rest for you.\n",
    "transform_train = transforms.Compose([\n",
    "    transforms.ToTensor(),\n",
    "    transforms.Normalize((0.4914, 0.4822, 0.4465), (0.2023, 0.1994, 0.2010)),\n",
    "])\n",
    "\n",
    "transform_test = transforms.Compose([\n",
    "    transforms.ToTensor(),\n",
    "    transforms.Normalize((0.4914, 0.4822, 0.4465), (0.2023, 0.1994, 0.2010)),\n",
    "])\n",
    "\n",
    "# This will automatically download the dataset for you if it cannot find the data in root\n",
    "trainset = torchvision.datasets.CIFAR10(root='./data', train=True, download=True, transform=transform_train)\n",
    "testset = torchvision.datasets.CIFAR10(root='./data', train=False, download=True, transform=transform_test)\n",
    "\n",
    "# Addon validation set. We just split the training set into two, where the validation set is 0.2 * trainset\n",
    "trainset_len = len(trainset)\n",
    "valset_len = int(0.2*trainset_len)\n",
    "valset, reduced_trainset = torch.utils.data.random_split(trainset, [valset_len, trainset_len-valset_len])"
   ]
  },
  {
   "cell_type": "markdown",
   "metadata": {},
   "source": [
    "## 2.1 Simple NN [30 pts]\n",
    "Implement a simple feed-forward neural network, and train it on the CIFAR-10 training set. Here's some specific requirements:\n",
    "1. The network should only consists of `nn.Linear` layers and the activation functions of your choices (e.g. `nn.Tanh`, `nn.ReLU`, `nn.Sigmoid`, etc). \n",
    "2. Train your model with `torch.optim.SGD` with the hyperparameters you like the most. \n",
    "\n",
    "Note that the hyperparameters work in previous assignment might not work the same, as the implementations of layers could be different."
   ]
  },
  {
   "cell_type": "code",
   "execution_count": 30,
   "metadata": {},
   "outputs": [],
   "source": [
    "class SimpleNN(nn.Module):\n",
    "    \n",
    "    def __init__(self, feature_size, output_size):\n",
    "        super().__init__()\n",
    "        ################################################################################\n",
    "        # TODO:                                                                        #\n",
    "        # Construct your small feedforward NN here.                                    #\n",
    "        ################################################################################\n",
    "        inputLayerWidth = feature_size\n",
    "        hiddenLayerWidth = 64\n",
    "        outputLayerWidth = output_size\n",
    "        \n",
    "        self.linear1 = nn.Linear(inputLayerWidth, hiddenLayerWidth)\n",
    "        self.linear2 = nn.Linear(hiddenLayerWidth, hiddenLayerWidth)\n",
    "        self.linear3 = nn.Linear(hiddenLayerWidth, outputLayerWidth)\n",
    "        self.relu = nn.ReLU()\n",
    "        self.softmax = nn.Softmax(dim=1)\n",
    "        \n",
    "        ################################################################################\n",
    "        #                                 END OF YOUR CODE                             #\n",
    "        ################################################################################\n",
    "        \n",
    "    def forward(self, x):\n",
    "        # note that: here, the data is of the shape (B, C, H, W)\n",
    "        # where B is the batch size, C is color channels, and H\n",
    "        # and W is height and width.\n",
    "        # To feed it into the linear layer, we need to reshape it\n",
    "        # with .view() function.\n",
    "        batch_size = x.size(0)\n",
    "        x = x.view(batch_size, -1) # reshape the data from (B, C, H, W) to (B, C*H*W)\n",
    "        ################################################################################\n",
    "        # TODO:                                                                        #\n",
    "        # Forward pass, output the prediction score.                                   #\n",
    "        ################################################################################\n",
    "        \n",
    "        # Create ReLU hidden layers, sigmoid output function\n",
    "        a1 = self.relu(self.linear1(x))\n",
    "        a2 = self.relu(self.linear2(a1))\n",
    "        # Note to self: Found out that CE loss function in pytorch already does softmax\n",
    "        # Also, y labels doesn't need to be manually binarized as it already does it internally\n",
    "#         y_pred = self.softmax(self.linear3(a2))\n",
    "#         return y_pred\n",
    "        return a2\n",
    "        \n",
    "        ################################################################################\n",
    "        #                                 END OF YOUR CODE                             #\n",
    "        ################################################################################"
   ]
  },
  {
   "cell_type": "code",
   "execution_count": 31,
   "metadata": {},
   "outputs": [
    {
     "name": "stdout",
     "output_type": "stream",
     "text": [
      "Epcoh 0: 1398.71147108078\n",
      "Epcoh 1: 1195.181910276413\n",
      "Epcoh 2: 1142.144958615303\n",
      "Epcoh 3: 1103.1530939340591\n",
      "Epcoh 4: 1070.7115968465805\n",
      "Epcoh 5: 1047.8342128396034\n",
      "Epcoh 6: 1027.2830560803413\n",
      "Epcoh 7: 1010.3071991205215\n",
      "Epcoh 8: 994.0303949713707\n",
      "Epcoh 9: 978.3097742795944\n",
      "Epcoh 10: 961.9288477897644\n",
      "Epcoh 11: 954.0750180482864\n",
      "Epcoh 12: 944.2545765638351\n",
      "Epcoh 13: 930.5436887741089\n",
      "Epcoh 14: 920.3894916176796\n",
      "Epcoh 15: 911.5894015431404\n",
      "Epcoh 16: 899.6762598752975\n",
      "Epcoh 17: 890.8600644469261\n",
      "Epcoh 18: 882.2703922390938\n",
      "Epcoh 19: 873.5377207994461\n",
      "Epcoh 20: 864.9878163337708\n",
      "Epcoh 21: 861.1354857087135\n",
      "Epcoh 22: 847.7902834415436\n",
      "Epcoh 23: 844.9993868470192\n",
      "Epcoh 24: 834.3042683601379\n",
      "Epcoh 25: 827.622817158699\n",
      "Epcoh 26: 822.5643528103828\n",
      "Epcoh 27: 816.3465507626534\n",
      "Epcoh 28: 805.5643186569214\n",
      "Epcoh 29: 802.6870357990265\n"
     ]
    },
    {
     "data": {
      "text/plain": [
       "[<matplotlib.lines.Line2D at 0x7f864027f4d0>]"
      ]
     },
     "execution_count": 31,
     "metadata": {},
     "output_type": "execute_result"
    },
    {
     "data": {
      "image/png": "[encoded data removed]",
      "text/plain": [
       "<Figure size 432x288 with 1 Axes>"
      ]
     },
     "metadata": {
      "needs_background": "light"
     },
     "output_type": "display_data"
    }
   ],
   "source": [
    "epoch = 30\n",
    "lr = 1e-2\n",
    "n_input = 3072\n",
    "n_classes = 10\n",
    "\n",
    "train_loader = torch.utils.data.DataLoader(trainset, batch_size=64, shuffle=True, num_workers=4)\n",
    "test_loader = torch.utils.data.DataLoader(testset, batch_size=100, shuffle=False, num_workers=2)\n",
    "\n",
    "################################################################################\n",
    "# TODO:                                                                        #\n",
    "# Your training code here.                                                     #\n",
    "################################################################################\n",
    "\n",
    "model = SimpleNN(n_input, n_classes)\n",
    "model.to(device)\n",
    "optim = torch.optim.SGD(model.parameters(), lr=lr, momentum=0.8)\n",
    "cross_entropy = nn.CrossEntropyLoss(reduction='mean')\n",
    "\n",
    "loss_hist = []\n",
    "\n",
    "for e in range(epoch):\n",
    "    loss_epoch = 0\n",
    "    ################################################################################\n",
    "    # TODO:                                                                        #\n",
    "    # Loop through the dataloader and train your model with nn.BCELoss.            #\n",
    "    ################################################################################\n",
    "    for x, y in train_loader:\n",
    "        x = x.to(device)\n",
    "        y = y.to(device)\n",
    "        y_pred = model(x)\n",
    "        \n",
    "        loss = cross_entropy(y_pred, y)\n",
    "        \n",
    "        optim.zero_grad()\n",
    "        loss.backward()\n",
    "        optim.step()\n",
    "\n",
    "        loss_epoch += loss.item()\n",
    "    loss_hist.append(loss_epoch)\n",
    "    print(f'Epcoh {e}: {loss_epoch}')\n",
    "\n",
    "plt.plot(loss_hist)\n",
    "\n",
    "################################################################################\n",
    "#                                 END OF YOUR CODE                             #\n",
    "################################################################################\n"
   ]
  },
  {
   "cell_type": "markdown",
   "metadata": {},
   "source": [
    "Now evaluate your model with the helper function:"
   ]
  },
  {
   "cell_type": "code",
   "execution_count": 32,
   "metadata": {},
   "outputs": [],
   "source": [
    "def get_model_acc(model, loader):\n",
    "    ys = []\n",
    "    y_preds = []\n",
    "    for x, y in loader:\n",
    "        x = x.to(device)\n",
    "        y = y.to(device)\n",
    "        ys.append(y)\n",
    "        # set the prediction to the one that has highest value\n",
    "        # Note that the the output size of model(x) is (B, 10)\n",
    "        y_preds.append(torch.argmax(model(x), dim=1))\n",
    "    y = torch.cat(ys, dim=0)\n",
    "    y_pred = torch.cat(y_preds, dim=0)\n",
    "    print((y == y_pred).sum())\n",
    "    return get_acc(y_pred, y)"
   ]
  },
  {
   "cell_type": "markdown",
   "metadata": {},
   "source": [
    "### 2.1.1 Evaluate NN [30 pts]\n",
    "Evaluate your NN. You should get an accuracy around **50%** on training set and **49%** on testing set."
   ]
  },
  {
   "cell_type": "code",
   "execution_count": 33,
   "metadata": {},
   "outputs": [
    {
     "name": "stdout",
     "output_type": "stream",
     "text": [
      "tensor(32784, device='cuda:0')\n",
      "tensor(4711, device='cuda:0')\n",
      "Training accuracy: 65.56800079345703, Testing accuracy: 47.11000061035156\n"
     ]
    }
   ],
   "source": [
    "train_acc = get_model_acc(model, train_loader)\n",
    "test_acc = get_model_acc(model, test_loader)\n",
    "print(f'Training accuracy: {train_acc}, Testing accuracy: {test_acc}')"
   ]
  },
  {
   "cell_type": "markdown",
   "metadata": {},
   "source": [
    "## 2.2 Convolutional Neural Network (CNN) [40 pts]\n",
    "Convolutional layer has been proven to be extremely useful for vision-based task. As mentioned in the lecture, this speical layer allows the model to learn filters that capture crucial visual features. \n",
    "\n"
   ]
  },
  {
   "cell_type": "markdown",
   "metadata": {},
   "source": [
    "### 2.2.1 Implement and Evaluate CNN [10 pts]\n",
    "In this section, you will need to construct a CNN for classifying CIFAR-10 image. Specifically, you need to:\n",
    "1. build a `CNNClassifier` with `nn.Conv2d`, `nn.Maxpool2d` and activation functions that you think are appropriate. \n",
    "2. You would need to flatten the output of your convolutional networks with `view()`, and feed it into a `nn.Linear` layer to predict the class labels of the input. \n",
    "\n",
    "Once you are done with your module, train it with `optim.SGD`, and evaluate it. You should get an accuracy around **55%** on training set and **53%** on testing set.\n",
    "\n",
    "Hint: You might want to look up `nn.Conv2d`, `nn.Maxpool2d`, `nn.CrossEntropyLoss()`, `view()` and `size()`."
   ]
  },
  {
   "cell_type": "code",
   "execution_count": 34,
   "metadata": {},
   "outputs": [],
   "source": [
    "class CNNClassifier(nn.Module):\n",
    "    \n",
    "    def __init__(self, n_input, n_classes):\n",
    "        super().__init__()\n",
    "        ################################################################################\n",
    "        # TODO:                                                                        #\n",
    "        # Construct a CNN with 2 or 3 convolutional layers and 1 linear layer for      #\n",
    "        # outputing class prediction. You are free to pick the hyperparameters         #\n",
    "        ################################################################################\n",
    "        hidden_layer_size = 64\n",
    "        \n",
    "        # In channels = 3 because of RGB, \n",
    "        self.conv1 = nn.Conv2d(in_channels=3, out_channels=128, kernel_size=3, padding=1)\n",
    "        self.pool1 = nn.MaxPool2d(kernel_size=2, stride=2)\n",
    "        \n",
    "        self.conv2 = nn.Conv2d(in_channels=128, out_channels=128, kernel_size=3, padding=1)\n",
    "        self.pool2 = nn.MaxPool2d(kernel_size=2, stride=2)\n",
    "        \n",
    "        self.conv3 = nn.Conv2d(in_channels=128, out_channels=256, kernel_size=3, padding=1)\n",
    "        self.pool3 = nn.MaxPool2d(kernel_size=2, stride=1)\n",
    "        \n",
    "        self.conv4 = nn.Conv2d(in_channels=256, out_channels=256, kernel_size=3, padding=1)\n",
    "        self.pool4 = nn.MaxPool2d(kernel_size=2, stride=1)\n",
    "        \n",
    "        \n",
    "        self.fc1 = nn.Linear(256 * 6 * 6, hidden_layer_size)\n",
    "        self.fc2 = nn.Linear(hidden_layer_size, hidden_layer_size)\n",
    "        self.fc3 = nn.Linear(hidden_layer_size, n_classes)    \n",
    "    \n",
    "    \n",
    "        self.relu = nn.ReLU()\n",
    "        \n",
    "        ################################################################################\n",
    "        #                                 END OF YOUR CODE                             #\n",
    "        ################################################################################\n",
    "        \n",
    "        \n",
    "    def forward(self, x):\n",
    "        ################################################################################\n",
    "        # TODO:                                                                        #\n",
    "        # Forward pass of your network. First extract feature with CNN, and predict    #\n",
    "        # class scores with linear layer. Be careful about your input/output shape.    #\n",
    "        ################################################################################\n",
    "#         import pdb; pdb.set_trace()\n",
    "        x = self.pool1(self.relu(self.conv1(x)))\n",
    "        x = self.pool2(self.relu(self.conv2(x)))\n",
    "        x = self.pool3(self.relu(self.conv3(x)))\n",
    "        x = self.pool4(self.relu(self.conv4(x)))\n",
    "        x = x.view(-1, 256 * 6 * 6)\n",
    "        x = self.relu(self.fc1(x))\n",
    "        x = self.relu(self.fc2(x))\n",
    "        x = self.fc3(x)\n",
    "        return x\n",
    "        ################################################################################\n",
    "        #                                 END OF YOUR CODE                             #\n",
    "        ################################################################################"
   ]
  },
  {
   "cell_type": "code",
   "execution_count": 35,
   "metadata": {},
   "outputs": [
    {
     "name": "stdout",
     "output_type": "stream",
     "text": [
      "Epcoh 0: 1155.897933959961\n",
      "Epcoh 1: 818.249342083931\n",
      "Epcoh 2: 639.2082496881485\n",
      "Epcoh 3: 516.8097132444382\n",
      "Epcoh 4: 431.1092566549778\n",
      "Epcoh 5: 360.1598764359951\n",
      "Epcoh 6: 294.882824704051\n",
      "Epcoh 7: 240.47362034767866\n"
     ]
    },
    {
     "data": {
      "text/plain": [
       "<matplotlib.legend.Legend at 0x7f85c0f17090>"
      ]
     },
     "execution_count": 35,
     "metadata": {},
     "output_type": "execute_result"
    },
    {
     "data": {
      "image/png": "[encoded data removed]",
      "text/plain": [
       "<Figure size 432x288 with 1 Axes>"
      ]
     },
     "metadata": {
      "needs_background": "light"
     },
     "output_type": "display_data"
    }
   ],
   "source": [
    "# You can tune these hyperparameters as you like.\n",
    "epoch = 8\n",
    "lr = 1e-2\n",
    "n_input = 3072\n",
    "n_classes = 10\n",
    "batch_size = 64\n",
    "num_workers = num_workers\n",
    "\n",
    "train_loader = torch.utils.data.DataLoader(reduced_trainset, batch_size=64, shuffle=True, num_workers=4)\n",
    "test_loader = torch.utils.data.DataLoader(testset, batch_size=100, shuffle=False, num_workers=4)\n",
    "val_loader = torch.utils.data.DataLoader(valset, batch_size=64, shuffle=True, num_workers=4)\n",
    "\n",
    "################################################################################\n",
    "# TODO:                                                                        #\n",
    "# Your training code here.                                                     #\n",
    "################################################################################\n",
    "model = CNNClassifier(n_input, n_classes)\n",
    "model.to(device)\n",
    "\n",
    "optim = torch.optim.SGD(model.parameters(), lr=lr, momentum=0.8)\n",
    "cross_entropy = nn.CrossEntropyLoss(reduction='mean')\n",
    "\n",
    "loss_hist_train = []\n",
    "loss_hist_val = []\n",
    "val_loader_iterator = iter(val_loader)\n",
    "    \n",
    "for e in range(epoch):\n",
    "    loss_epoch = 0\n",
    "    loss_val_epoch = 0\n",
    "\n",
    "    for x, y in train_loader:\n",
    "        x = x.to(device)\n",
    "        y = y.to(device)\n",
    "        y_pred = y_pred.to(device)\n",
    "        y_pred = model(x)\n",
    "        \n",
    "        loss = cross_entropy(y_pred, y)\n",
    "        \n",
    "        # This section is just to test against validation set. We don't need to keep track of gradients here.\n",
    "        with torch.no_grad():\n",
    "            try:\n",
    "                x_val, y_val = next(val_loader_iterator)\n",
    "            except StopIteration:\n",
    "                # Validation set is smaller than training set so we'll run out of batches faster, reinstantiate\n",
    "                # if we do.\n",
    "                val_loader_iterator = iter(val_loader)\n",
    "                x_val, y_val = next(val_loader_iterator)\n",
    "                \n",
    "            # Just make a prediction with the validation x and y and get the loss\n",
    "            x_val = x_val.to(device)\n",
    "            y_val = y_val.to(device)\n",
    "            y_val_pred = model(x_val)\n",
    "            loss_val = cross_entropy(y_val_pred, y_val)\n",
    "        \n",
    "        optim.zero_grad()\n",
    "        loss.backward()\n",
    "        optim.step()\n",
    "\n",
    "        loss_epoch += loss.item()\n",
    "        loss_val_epoch += loss_val.item()\n",
    "\n",
    "    loss_hist_val.append(loss_val_epoch)\n",
    "    loss_hist_train.append(loss_epoch)\n",
    "    print(f'Epcoh {e}: {loss_epoch}')\n",
    "\n",
    "plt.plot(loss_hist_train)\n",
    "plt.plot(loss_hist_val)\n",
    "plt.legend(['Training Loss', 'Validation Loss'], loc='upper left')\n",
    "\n",
    "################################################################################\n",
    "#                                 END OF YOUR CODE                             #\n",
    "################################################################################"
   ]
  },
  {
   "cell_type": "code",
   "execution_count": 36,
   "metadata": {},
   "outputs": [
    {
     "name": "stdout",
     "output_type": "stream",
     "text": [
      "tensor(36866, device='cuda:0')\n",
      "tensor(7853, device='cuda:0')\n",
      "Training accuracy: 92.16500091552734, Testing accuracy: 78.52999877929688\n"
     ]
    }
   ],
   "source": [
    "# turn on evaluation mode. This is crucial when you have BatchNorm in your network,\n",
    "# as you want to use the running mean/std you obtain durining training time to normalize\n",
    "# your input data. Rememeber to call .train() function after evaluation\n",
    "\n",
    "# Get the testing accuracy and plot for each number of layers:\n",
    "test_acc_depth = [0] * 3\n",
    "\n",
    "model.eval()\n",
    "train_acc = get_model_acc(model, train_loader)\n",
    "test_acc = get_model_acc(model, test_loader)\n",
    "print(f'Training accuracy: {train_acc}, Testing accuracy: {test_acc}')\n",
    "\n",
    "# For plot later\n",
    "test_acc_depth[1] = test_acc"
   ]
  },
  {
   "cell_type": "markdown",
   "metadata": {},
   "source": [
    "<span style=\"color:red\">**Explain your design and hyperparameter choice in three or four sentences:**</span>\n",
    "\n",
    "<strong>Answer:</strong>\n",
    "\n",
    "I already played with several different number of layers/padding/kernel size/depth at this point, before realizing the rest of the assignment IS to try these parameters out. So, thank you for letting us try out all these different configurations, it's really interesting. \n",
    "\n",
    "At this point in the submission I'll just use this architecture, then refine it in the next sections. Currently I have 4 layers of Conv2d followed by pooling after each conv layer. Tried using smaller kernels but more output channels to extract more features early on, maybe if we increase the layers even more that might increase accuracy. Added padding so corner of the images also gets some weight. I follow that with 3 fc layers. Also split the training set into validation set (20%) and training set (80%) then plotted it out so it's easier to do hyperparameter tuning. Using momentum SGD with 0.8 momentum.\n",
    "\n"
   ]
  },
  {
   "cell_type": "markdown",
   "metadata": {},
   "source": [
    "### 2.2.2 STACK MORE LAYERS [10 pts]\n",
    "Now, **try at least 4 network architectures with different numbers of convolutional layers**. Train these settings with `optim.SGD`, plot the accuracy as a fuction of convolutional layers and describe what you have observed (running time, performance, etc). "
   ]
  },
  {
   "cell_type": "code",
   "execution_count": 37,
   "metadata": {},
   "outputs": [],
   "source": [
    "# For 6 layer conv network, I also tried adding dropout regularization because as you can see from the\n",
    "# previous 4 layer CNN, after epoch 5 validation error goes up while training error goes down - we're overfitting. \n",
    "# After we plot the 2 layer CNN, we'll try adding some other regularization, and maybe some batch norm layers.\n",
    "class CNNClassifier_6(nn.Module):\n",
    "    \n",
    "    def __init__(self, n_input, n_classes):\n",
    "        super().__init__()\n",
    "        ################################################################################\n",
    "        # TODO:                                                                        #\n",
    "        # Construct a CNN with 2 or 3 convolutional layers and 1 linear layer for      #\n",
    "        # outputing class prediction. You are free to pick the hyperparameters         #\n",
    "        ################################################################################\n",
    "        hidden_layer_size = 64\n",
    "        \n",
    "        # In channels = 3 because of RGB, \n",
    "        self.conv1 = nn.Conv2d(in_channels=3, out_channels=128, kernel_size=3, padding=1)\n",
    "        self.pool1 = nn.MaxPool2d(kernel_size=2, stride=2)\n",
    "        \n",
    "        self.conv2 = nn.Conv2d(in_channels=128, out_channels=128, kernel_size=3, padding=1)\n",
    "        self.pool2 = nn.MaxPool2d(kernel_size=2, stride=2)\n",
    "        \n",
    "        self.conv3 = nn.Conv2d(in_channels=128, out_channels=256, kernel_size=3, padding=1)\n",
    "        self.pool3 = nn.MaxPool2d(kernel_size=2, stride=1)\n",
    "        \n",
    "        self.conv4 = nn.Conv2d(in_channels=256, out_channels=256, kernel_size=3, padding=1)\n",
    "        self.pool4 = nn.MaxPool2d(kernel_size=2, stride=1)\n",
    "        \n",
    "        self.conv5 = nn.Conv2d(in_channels=256, out_channels=256, kernel_size=3, padding=1)\n",
    "        self.pool5 = nn.MaxPool2d(kernel_size=2, stride=1)\n",
    "        \n",
    "        self.conv6 = nn.Conv2d(in_channels=256, out_channels=256, kernel_size=3, padding=1)\n",
    "        self.pool6 = nn.MaxPool2d(kernel_size=2, stride=1)\n",
    "        \n",
    "        \n",
    "        self.fc1 = nn.Linear(256 * 4 * 4, hidden_layer_size)\n",
    "        self.fc2 = nn.Linear(hidden_layer_size, hidden_layer_size)\n",
    "        self.fc3 = nn.Linear(hidden_layer_size, n_classes)    \n",
    "    \n",
    "        self.dropout = nn.Dropout(p=0.2)\n",
    "        self.relu = nn.ReLU()\n",
    "        \n",
    "        ################################################################################\n",
    "        #                                 END OF YOUR CODE                             #\n",
    "        ################################################################################\n",
    "        \n",
    "        \n",
    "    def forward(self, x):\n",
    "        ################################################################################\n",
    "        # TODO:                                                                        #\n",
    "        # Forward pass of your network. First extract feature with CNN, and predict    #\n",
    "        # class scores with linear layer. Be careful about your input/output shape.    #\n",
    "        ################################################################################\n",
    "#         import pdb; pdb.set_trace()\n",
    "        x = self.pool1(self.relu(self.conv1(x)))\n",
    "        x = self.pool2(self.relu(self.conv2(x)))\n",
    "        x = self.pool3(self.relu(self.conv3(x)))\n",
    "        x = self.pool4(self.relu(self.conv4(x)))\n",
    "        x = self.pool5(self.relu(self.conv5(x)))\n",
    "        x = self.pool6(self.relu(self.conv6(x)))\n",
    "        x = x.view(-1, 256 * 4 * 4)\n",
    "        x = self.relu(self.dropout(self.fc1(x)))\n",
    "        x = self.relu(self.dropout(self.fc2(x)))\n",
    "        x = self.dropout(self.fc3(x))\n",
    "        return x\n",
    "        ################################################################################\n",
    "        #                                 END OF YOUR CODE                             #\n",
    "        ################################################################################"
   ]
  },
  {
   "cell_type": "code",
   "execution_count": 38,
   "metadata": {},
   "outputs": [
    {
     "name": "stdout",
     "output_type": "stream",
     "text": [
      "Epcoh 0: 1251.838905453682\n",
      "Epcoh 1: 1009.454139828682\n",
      "Epcoh 2: 861.4083225727081\n",
      "Epcoh 3: 752.16428399086\n",
      "Epcoh 4: 675.5119631290436\n",
      "Epcoh 5: 603.798300921917\n",
      "Epcoh 6: 552.9130141735077\n",
      "Epcoh 7: 502.6481205224991\n"
     ]
    },
    {
     "data": {
      "text/plain": [
       "<matplotlib.legend.Legend at 0x7f864094add0>"
      ]
     },
     "execution_count": 38,
     "metadata": {},
     "output_type": "execute_result"
    },
    {
     "data": {
      "image/png": "[encoded data removed]",
      "text/plain": [
       "<Figure size 432x288 with 1 Axes>"
      ]
     },
     "metadata": {
      "needs_background": "light"
     },
     "output_type": "display_data"
    }
   ],
   "source": [
    "# Run 6 layer CNN\n",
    "epoch = 8\n",
    "lr = 1e-2\n",
    "n_input = 3072\n",
    "n_classes = 10\n",
    "batch_size = 64\n",
    "num_workers = num_workers\n",
    "\n",
    "train_loader = torch.utils.data.DataLoader(reduced_trainset, batch_size=64, shuffle=True, num_workers=4)\n",
    "test_loader = torch.utils.data.DataLoader(testset, batch_size=100, shuffle=False, num_workers=4)\n",
    "val_loader = torch.utils.data.DataLoader(valset, batch_size=64, shuffle=True, num_workers=4)\n",
    "\n",
    "################################################################################\n",
    "# TODO:                                                                        #\n",
    "# Your training code here.                                                     #\n",
    "################################################################################\n",
    "model6 = CNNClassifier_6(n_input, n_classes)\n",
    "model6.to(device)\n",
    "\n",
    "# Initialize weights with Kaiming, just curious to try. It's not very deep so shouldn't have impact.:\n",
    "def init_weights_kaiming(m):\n",
    "    if type(m) == nn.Linear:\n",
    "        torch.nn.init.kaiming_normal_(m.weight)\n",
    "        \n",
    "model6.apply(init_weights_kaiming)\n",
    "\n",
    "optim = torch.optim.SGD(model6.parameters(), lr=lr, momentum=0.8)\n",
    "cross_entropy = nn.CrossEntropyLoss(reduction='mean')\n",
    "\n",
    "loss_hist_train = []\n",
    "loss_hist_val = []\n",
    "val_loader_iterator = iter(val_loader)\n",
    "    \n",
    "for e in range(epoch):\n",
    "    loss_epoch = 0\n",
    "    loss_val_epoch = 0\n",
    "\n",
    "    for x, y in train_loader:\n",
    "        x = x.to(device)\n",
    "        y = y.to(device)\n",
    "        y_pred = model6(x)\n",
    "        \n",
    "        loss = cross_entropy(y_pred, y)\n",
    "        \n",
    "        # This section is just to test against validation set. We don't need to keep track of gradients here.\n",
    "        with torch.no_grad():\n",
    "            try:\n",
    "                x_val, y_val = next(val_loader_iterator)\n",
    "            except StopIteration:\n",
    "                # Validation set is smaller than training set so we'll run out of batches faster, reinstantiate\n",
    "                # if we do.\n",
    "                val_loader_iterator = iter(val_loader)\n",
    "                x_val, y_val = next(val_loader_iterator)\n",
    "                \n",
    "            # Just make a prediction with the validation x and y and get the loss\n",
    "            x_val = x_val.to(device)\n",
    "            y_val = y_val.to(device)\n",
    "            y_val_pred = model6(x_val)\n",
    "            loss_val = cross_entropy(y_val_pred, y_val)\n",
    "        \n",
    "        optim.zero_grad()\n",
    "        loss.backward()\n",
    "        optim.step()\n",
    "\n",
    "        loss_epoch += loss.item()\n",
    "        loss_val_epoch += loss_val.item()\n",
    "\n",
    "    loss_hist_val.append(loss_val_epoch)\n",
    "    loss_hist_train.append(loss_epoch)\n",
    "    print(f'Epcoh {e}: {loss_epoch}')\n",
    "\n",
    "plt.plot(loss_hist_train)\n",
    "plt.plot(loss_hist_val)\n",
    "plt.legend(['Training Loss', 'Validation Loss'], loc='upper left')\n",
    "\n",
    "################################################################################\n",
    "#                                 END OF YOUR CODE                             #\n",
    "################################################################################"
   ]
  },
  {
   "cell_type": "code",
   "execution_count": 39,
   "metadata": {},
   "outputs": [
    {
     "name": "stdout",
     "output_type": "stream",
     "text": [
      "tensor(34535, device='cuda:0')\n",
      "tensor(7723, device='cuda:0')\n",
      "Training accuracy: 86.33749389648438, Testing accuracy: 77.2300033569336\n"
     ]
    }
   ],
   "source": [
    "# Evaluate 6 layer CNN\n",
    "model6.eval()\n",
    "train_acc = get_model_acc(model6, train_loader)\n",
    "test_acc = get_model_acc(model6, test_loader)\n",
    "print(f'Training accuracy: {train_acc}, Testing accuracy: {test_acc}')\n",
    "# For plot later\n",
    "test_acc_depth[2] = test_acc"
   ]
  },
  {
   "cell_type": "code",
   "execution_count": 40,
   "metadata": {},
   "outputs": [],
   "source": [
    "# Just do a 2 layer network for the simple plot with relation to depth of CNN layers.\n",
    "class CNNClassifier_2(nn.Module):\n",
    "    \n",
    "    def __init__(self, n_input, n_classes):\n",
    "        super().__init__()\n",
    "        ################################################################################\n",
    "        # TODO:                                                                        #\n",
    "        # Construct a CNN with 2 or 3 convolutional layers and 1 linear layer for      #\n",
    "        # outputing class prediction. You are free to pick the hyperparameters         #\n",
    "        ################################################################################\n",
    "        hidden_layer_size = 64\n",
    "        \n",
    "        # In channels = 3 because of RGB, \n",
    "        self.conv1 = nn.Conv2d(in_channels=3, out_channels=128, kernel_size=3, padding=1)\n",
    "        self.pool1 = nn.MaxPool2d(kernel_size=2, stride=2)\n",
    "        \n",
    "        self.conv2 = nn.Conv2d(in_channels=128, out_channels=128, kernel_size=3, padding=1)\n",
    "        self.pool2 = nn.MaxPool2d(kernel_size=2, stride=2)\n",
    "           \n",
    "        self.fc1 = nn.Linear(128 * 8 * 8, hidden_layer_size)\n",
    "        self.fc2 = nn.Linear(hidden_layer_size, hidden_layer_size)\n",
    "        self.fc3 = nn.Linear(hidden_layer_size, n_classes)    \n",
    "    \n",
    "        self.dropout = nn.Dropout(p=0.2)\n",
    "        self.relu = nn.ReLU()\n",
    "        \n",
    "        ################################################################################\n",
    "        #                                 END OF YOUR CODE                             #\n",
    "        ################################################################################\n",
    "        \n",
    "        \n",
    "    def forward(self, x):\n",
    "        ################################################################################\n",
    "        # TODO:                                                                        #\n",
    "        # Forward pass of your network. First extract feature with CNN, and predict    #\n",
    "        # class scores with linear layer. Be careful about your input/output shape.    #\n",
    "        ################################################################################\n",
    "#         import pdb; pdb.set_trace()\n",
    "        x = self.pool1(self.relu(self.conv1(x)))\n",
    "        x = self.pool2(self.relu(self.conv2(x)))\n",
    "        x = x.view(-1, 128 * 8 * 8)\n",
    "        x = self.relu(self.dropout(self.fc1(x)))\n",
    "        x = self.relu(self.dropout(self.fc2(x)))\n",
    "        x = self.dropout(self.fc3(x))\n",
    "        return x\n",
    "        ################################################################################\n",
    "        #                                 END OF YOUR CODE                             #\n",
    "        ################################################################################"
   ]
  },
  {
   "cell_type": "code",
   "execution_count": 41,
   "metadata": {},
   "outputs": [
    {
     "name": "stdout",
     "output_type": "stream",
     "text": [
      "Epcoh 0: 1159.6992956399918\n",
      "Epcoh 1: 950.8789750337601\n",
      "Epcoh 2: 842.7469898462296\n",
      "Epcoh 3: 765.0110471248627\n",
      "Epcoh 4: 716.0283551216125\n",
      "Epcoh 5: 671.5659872293472\n",
      "Epcoh 6: 629.8970526456833\n",
      "Epcoh 7: 587.5829052329063\n"
     ]
    },
    {
     "data": {
      "text/plain": [
       "<matplotlib.legend.Legend at 0x7f862a0f0ed0>"
      ]
     },
     "execution_count": 41,
     "metadata": {},
     "output_type": "execute_result"
    },
    {
     "data": {
      "image/png": "[encoded data removed]",
      "text/plain": [
       "<Figure size 432x288 with 1 Axes>"
      ]
     },
     "metadata": {
      "needs_background": "light"
     },
     "output_type": "display_data"
    }
   ],
   "source": [
    "# Run 2 layer CNN\n",
    "epoch = 8\n",
    "lr = 1e-2\n",
    "n_input = 3072\n",
    "n_classes = 10\n",
    "batch_size = 64\n",
    "num_workers = num_workers\n",
    "\n",
    "train_loader = torch.utils.data.DataLoader(reduced_trainset, batch_size=64, shuffle=True, num_workers=4)\n",
    "test_loader = torch.utils.data.DataLoader(testset, batch_size=100, shuffle=False, num_workers=4)\n",
    "val_loader = torch.utils.data.DataLoader(valset, batch_size=64, shuffle=True, num_workers=4)\n",
    "\n",
    "################################################################################\n",
    "# TODO:                                                                        #\n",
    "# Your training code here.                                                     #\n",
    "################################################################################\n",
    "model2 = CNNClassifier_2(n_input, n_classes)\n",
    "model2.to(device)\n",
    "\n",
    "optim = torch.optim.SGD(model2.parameters(), lr=lr, momentum=0.8)\n",
    "cross_entropy = nn.CrossEntropyLoss(reduction='mean')\n",
    "\n",
    "loss_hist_train = []\n",
    "loss_hist_val = []\n",
    "val_loader_iterator = iter(val_loader)\n",
    "    \n",
    "for e in range(epoch):\n",
    "    loss_epoch = 0\n",
    "    loss_val_epoch = 0\n",
    "\n",
    "    for x, y in train_loader:\n",
    "        x = x.to(device)\n",
    "        y = y.to(device)\n",
    "        y_pred = model2(x)\n",
    "        \n",
    "        loss = cross_entropy(y_pred, y)\n",
    "        \n",
    "        # This section is just to test against validation set. We don't need to keep track of gradients here.\n",
    "        with torch.no_grad():\n",
    "            try:\n",
    "                x_val, y_val = next(val_loader_iterator)\n",
    "            except StopIteration:\n",
    "                # Validation set is smaller than training set so we'll run out of batches faster, reinstantiate\n",
    "                # if we do.\n",
    "                val_loader_iterator = iter(val_loader)\n",
    "                x_val, y_val = next(val_loader_iterator)\n",
    "                \n",
    "            # Just make a prediction with the validation x and y and get the loss\n",
    "            y_val = y_val.to(device)\n",
    "            x_val = x_val.to(device)\n",
    "            y_val_pred = model2(x_val)\n",
    "            loss_val = cross_entropy(y_val_pred, y_val)\n",
    "        \n",
    "        optim.zero_grad()\n",
    "        loss.backward()\n",
    "        optim.step()\n",
    "\n",
    "        loss_epoch += loss.item()\n",
    "        loss_val_epoch += loss_val.item()\n",
    "\n",
    "    loss_hist_val.append(loss_val_epoch)\n",
    "    loss_hist_train.append(loss_epoch)\n",
    "    print(f'Epcoh {e}: {loss_epoch}')\n",
    "\n",
    "plt.plot(loss_hist_train)\n",
    "plt.plot(loss_hist_val)\n",
    "plt.legend(['Training Loss', 'Validation Loss'], loc='upper left')\n",
    "\n",
    "################################################################################\n",
    "#                                 END OF YOUR CODE                             #\n",
    "################################################################################"
   ]
  },
  {
   "cell_type": "code",
   "execution_count": 42,
   "metadata": {},
   "outputs": [
    {
     "name": "stdout",
     "output_type": "stream",
     "text": [
      "tensor(32818, device='cuda:0')\n",
      "tensor(7250, device='cuda:0')\n",
      "Training accuracy: 82.04499816894531, Testing accuracy: 72.5\n"
     ]
    }
   ],
   "source": [
    "# Evaluate 2 layer CNN (2 conv layers)\n",
    "model2.eval()\n",
    "train_acc = get_model_acc(model2, train_loader)\n",
    "test_acc = get_model_acc(model2, test_loader)\n",
    "print(f'Training accuracy: {train_acc}, Testing accuracy: {test_acc}')\n",
    "# For plot later\n",
    "test_acc_depth[0] = test_acc"
   ]
  },
  {
   "cell_type": "code",
   "execution_count": 43,
   "metadata": {},
   "outputs": [],
   "source": [
    "# Trying to optimize with batch norm in the 6 layer network.\n",
    "\n",
    "class CNNClassifier_6_batchnorm(nn.Module):\n",
    "    \n",
    "    def __init__(self, n_input, n_classes):\n",
    "        super().__init__()\n",
    "        ################################################################################\n",
    "        # TODO:                                                                        #\n",
    "        # Construct a CNN with 2 or 3 convolutional layers and 1 linear layer for      #\n",
    "        # outputing class prediction. You are free to pick the hyperparameters         #\n",
    "        ################################################################################\n",
    "        hidden_layer_size = 512\n",
    "        \n",
    "        # In channels = 3 because of RGB, \n",
    "        self.conv1 = nn.Conv2d(in_channels=3, out_channels=128, kernel_size=3, padding=1)\n",
    "        self.bn1   = nn.BatchNorm2d(128)\n",
    "        self.pool1 = nn.MaxPool2d(kernel_size=2, stride=2)\n",
    "        \n",
    "        self.conv2 = nn.Conv2d(in_channels=128, out_channels=128, kernel_size=3, padding=1)\n",
    "        self.bn2   = nn.BatchNorm2d(128)\n",
    "        self.pool2 = nn.MaxPool2d(kernel_size=2, stride=2)\n",
    "        \n",
    "        self.conv3 = nn.Conv2d(in_channels=128, out_channels=256, kernel_size=3, padding=1)\n",
    "        self.bn3   = nn.BatchNorm2d(256)\n",
    "        self.pool3 = nn.MaxPool2d(kernel_size=2, stride=1)\n",
    "        \n",
    "        self.conv4 = nn.Conv2d(in_channels=256, out_channels=256, kernel_size=3, padding=1)\n",
    "        self.bn4   = nn.BatchNorm2d(256)\n",
    "        self.pool4 = nn.MaxPool2d(kernel_size=2, stride=1)\n",
    "        \n",
    "        \n",
    "        self.conv5 = nn.Conv2d(in_channels=256, out_channels=256, kernel_size=3, padding=1)\n",
    "        self.bn5   = nn.BatchNorm2d(256)\n",
    "        self.pool5 = nn.MaxPool2d(kernel_size=2, stride=1)\n",
    "        \n",
    "        self.conv6 = nn.Conv2d(in_channels=256, out_channels=256, kernel_size=3, padding=1)\n",
    "        self.bn6   = nn.BatchNorm2d(256)\n",
    "        self.pool6 = nn.MaxPool2d(kernel_size=2, stride=1)\n",
    "        \n",
    "        \n",
    "        self.fc1 = nn.Linear(256 * 4 * 4, hidden_layer_size)\n",
    "        self.fc2 = nn.Linear(hidden_layer_size, hidden_layer_size)\n",
    "        self.fc3 = nn.Linear(hidden_layer_size, n_classes)    \n",
    "    \n",
    "        self.dropout = nn.Dropout(p=0.2)\n",
    "        self.relu = nn.ReLU()\n",
    "        \n",
    "        ################################################################################\n",
    "        #                                 END OF YOUR CODE                             #\n",
    "        ################################################################################\n",
    "        \n",
    "        \n",
    "    def forward(self, x):\n",
    "        ################################################################################\n",
    "        # TODO:                                                                        #\n",
    "        # Forward pass of your network. First extract feature with CNN, and predict    #\n",
    "        # class scores with linear layer. Be careful about your input/output shape.    #\n",
    "        ################################################################################\n",
    "#         import pdb; pdb.set_trace()\n",
    "        x = self.pool1(self.relu(self.bn1(self.conv1(x))))\n",
    "        x = self.pool2(self.relu(self.bn2(self.conv2(x))))\n",
    "        x = self.pool3(self.relu(self.bn3(self.conv3(x))))\n",
    "        x = self.pool4(self.relu(self.bn4(self.conv4(x))))\n",
    "        x = self.pool5(self.relu(self.bn5(self.conv5(x))))\n",
    "        x = self.pool6(self.relu(self.bn6(self.conv6(x))))\n",
    "        x = x.view(-1, 256 * 4 * 4)\n",
    "        x = self.relu(self.dropout(self.fc1(x)))\n",
    "        x = self.relu(self.dropout(self.fc2(x)))\n",
    "        x = self.dropout(self.fc3(x))\n",
    "        return x\n",
    "        ################################################################################\n",
    "        #                                 END OF YOUR CODE                             #\n",
    "        ################################################################################"
   ]
  },
  {
   "cell_type": "code",
   "execution_count": 44,
   "metadata": {},
   "outputs": [
    {
     "name": "stdout",
     "output_type": "stream",
     "text": [
      "Epcoh 0: 1068.0862720012665\n",
      "Epcoh 1: 806.5610074400902\n",
      "Epcoh 2: 680.7949711680412\n",
      "Epcoh 3: 596.956195294857\n",
      "Epcoh 4: 528.7516746520996\n",
      "Epcoh 5: 482.4986637532711\n",
      "Epcoh 6: 440.9442280828953\n",
      "Epcoh 7: 406.6629312336445\n",
      "Epcoh 8: 371.4560295045376\n",
      "Epcoh 9: 346.537205517292\n",
      "Epcoh 10: 315.59139470756054\n",
      "Epcoh 11: 295.54320515692234\n"
     ]
    },
    {
     "data": {
      "text/plain": [
       "<matplotlib.legend.Legend at 0x7f862a1a3d90>"
      ]
     },
     "execution_count": 44,
     "metadata": {},
     "output_type": "execute_result"
    },
    {
     "data": {
      "image/png": "[encoded data removed]",
      "text/plain": [
       "<Figure size 432x288 with 1 Axes>"
      ]
     },
     "metadata": {
      "needs_background": "light"
     },
     "output_type": "display_data"
    }
   ],
   "source": [
    "# Run 6 layer CNN\n",
    "epoch = 12\n",
    "lr = 1e-2\n",
    "n_input = 3072\n",
    "n_classes = 10\n",
    "batch_size = 64\n",
    "num_workers = num_workers\n",
    "\n",
    "train_loader = torch.utils.data.DataLoader(reduced_trainset, batch_size=64, shuffle=True, num_workers=4)\n",
    "test_loader = torch.utils.data.DataLoader(testset, batch_size=100, shuffle=False, num_workers=4)\n",
    "val_loader = torch.utils.data.DataLoader(valset, batch_size=64, shuffle=True, num_workers=4)\n",
    "\n",
    "################################################################################\n",
    "# TODO:                                                                        #\n",
    "# Your training code here.                                                     #\n",
    "################################################################################\n",
    "model6n = CNNClassifier_6_batchnorm(n_input, n_classes)\n",
    "model6n.to(device)\n",
    "\n",
    "# Initialize weights with Kaiming, just curious to try. It's not very deep so shouldn't have impact.:\n",
    "def init_weights_kaiming(m):\n",
    "    if type(m) == nn.Linear:\n",
    "        torch.nn.init.kaiming_normal_(m.weight)\n",
    "        \n",
    "model6n.apply(init_weights_kaiming)\n",
    "\n",
    "optim = torch.optim.SGD(model6n.parameters(), lr=lr, momentum=0.8)\n",
    "cross_entropy = nn.CrossEntropyLoss(reduction='mean')\n",
    "\n",
    "loss_hist_train = []\n",
    "loss_hist_val = []\n",
    "val_loader_iterator = iter(val_loader)\n",
    "    \n",
    "for e in range(epoch):\n",
    "    loss_epoch = 0\n",
    "    loss_val_epoch = 0\n",
    "\n",
    "    for x, y in train_loader:\n",
    "        x = x.to(device)\n",
    "        y = y.to(device)\n",
    "        y_pred = model6n(x)\n",
    "        \n",
    "        loss = cross_entropy(y_pred, y)\n",
    "        \n",
    "        # This section is just to test against validation set. We don't need to keep track of gradients here.\n",
    "        with torch.no_grad():\n",
    "            try:\n",
    "                x_val, y_val = next(val_loader_iterator)\n",
    "            except StopIteration:\n",
    "                # Validation set is smaller than training set so we'll run out of batches faster, reinstantiate\n",
    "                # if we do.\n",
    "                val_loader_iterator = iter(val_loader)\n",
    "                x_val, y_val = next(val_loader_iterator)\n",
    "                \n",
    "            # Just make a prediction with the validation x and y and get the loss\n",
    "            x_val = x_val.to(device)\n",
    "            y_val = y_val.to(device)\n",
    "            y_val_pred = model6n(x_val)\n",
    "            loss_val = cross_entropy(y_val_pred, y_val)\n",
    "        \n",
    "        optim.zero_grad()\n",
    "        loss.backward()\n",
    "        optim.step()\n",
    "\n",
    "        loss_epoch += loss.item()\n",
    "        loss_val_epoch += loss_val.item()\n",
    "\n",
    "    loss_hist_val.append(loss_val_epoch)\n",
    "    loss_hist_train.append(loss_epoch)\n",
    "    print(f'Epcoh {e}: {loss_epoch}')\n",
    "\n",
    "plt.plot(loss_hist_train)\n",
    "plt.plot(loss_hist_val)\n",
    "plt.legend(['Training Loss', 'Validation Loss'], loc='upper right')\n",
    "\n",
    "################################################################################\n",
    "#                                 END OF YOUR CODE                             #\n",
    "################################################################################"
   ]
  },
  {
   "cell_type": "code",
   "execution_count": 45,
   "metadata": {},
   "outputs": [
    {
     "name": "stdout",
     "output_type": "stream",
     "text": [
      "tensor(36041, device='cuda:0')\n",
      "tensor(7794, device='cuda:0')\n",
      "Training accuracy: 90.10250091552734, Testing accuracy: 77.94000244140625\n"
     ]
    }
   ],
   "source": [
    "# Evaluate 6 layer modified CNN, this is the one with batch Norm\n",
    "model6n.eval()\n",
    "train_acc = get_model_acc(model6n, train_loader)\n",
    "test_acc = get_model_acc(model6n, test_loader)\n",
    "print(f'Training accuracy: {train_acc}, Testing accuracy: {test_acc}')"
   ]
  },
  {
   "cell_type": "code",
   "execution_count": 13,
   "metadata": {},
   "outputs": [],
   "source": [
    "# What if we follow known architectures and stack a few Conv layers before we actually do any max pooling? \n",
    "# Add on to the architecture that already has batch norm and dropout with 6 conv layers.\n",
    "\n",
    "# WARNING: THIS MODEL TOOK THE WHOLE NIGHT TO RUN WHEN TRYING TO RUN WITH CPU, CUDA RUNS OUT OF MEMORY\n",
    "\n",
    "class CNNClassifier_6_modified(nn.Module):\n",
    "    \n",
    "    def __init__(self, n_input, n_classes):\n",
    "        super().__init__()\n",
    "        ################################################################################\n",
    "        # TODO:                                                                        #\n",
    "        # Construct a CNN with 2 or 3 convolutional layers and 1 linear layer for      #\n",
    "        # outputing class prediction. You are free to pick the hyperparameters         #\n",
    "        ################################################################################\n",
    "        hidden_layer_size = 256\n",
    "        \n",
    "        # In channels = 3 because of RGB, \n",
    "        self.conv1 = nn.Conv2d(in_channels=3, out_channels=128, kernel_size=3, padding=1)\n",
    "        self.bn1   = nn.BatchNorm2d(128)\n",
    "        \n",
    "        self.conv2 = nn.Conv2d(in_channels=128, out_channels=128, kernel_size=3, padding=1)\n",
    "        self.bn2   = nn.BatchNorm2d(128)\n",
    "               \n",
    "        self.conv3 = nn.Conv2d(in_channels=128, out_channels=256, kernel_size=3, padding=1)\n",
    "        self.bn3   = nn.BatchNorm2d(256)\n",
    "              \n",
    "        self.conv4 = nn.Conv2d(in_channels=256, out_channels=256, kernel_size=3, padding=1)\n",
    "        self.bn4   = nn.BatchNorm2d(256)\n",
    "            \n",
    "        self.conv5 = nn.Conv2d(in_channels=256, out_channels=256, kernel_size=3, padding=1)\n",
    "        self.bn5   = nn.BatchNorm2d(256)\n",
    "        \n",
    "        self.conv6 = nn.Conv2d(in_channels=256, out_channels=256, kernel_size=3, padding=1)\n",
    "        self.bn6   = nn.BatchNorm2d(256)\n",
    "        \n",
    "        self.pool1 = nn.MaxPool2d(kernel_size=2, stride=2)\n",
    "        self.pool2 = nn.MaxPool2d(kernel_size=2, stride=2)\n",
    "        \n",
    "        self.fc1 = nn.Linear(256 * 8 * 8, hidden_layer_size)\n",
    "        self.fc2 = nn.Linear(hidden_layer_size, hidden_layer_size)\n",
    "        self.fc3 = nn.Linear(hidden_layer_size, n_classes)    \n",
    "    \n",
    "        self.dropout = nn.Dropout(p=0.2)\n",
    "        self.relu = nn.ReLU()\n",
    "        \n",
    "        ################################################################################\n",
    "        #                                 END OF YOUR CODE                             #\n",
    "        ################################################################################\n",
    "        \n",
    "        \n",
    "    def forward(self, x):\n",
    "        ################################################################################\n",
    "        # TODO:                                                                        #\n",
    "        # Forward pass of your network. First extract feature with CNN, and predict    #\n",
    "        # class scores with linear layer. Be careful about your input/output shape.    #\n",
    "        ################################################################################\n",
    "#         import pdb; pdb.set_trace()\n",
    "        x = self.relu(self.bn1(self.conv1(x)))\n",
    "        x = self.relu(self.bn2(self.conv2(x)))\n",
    "        x = self.pool1(self.relu(self.bn3(self.conv3(x))))\n",
    "        x = self.relu(self.bn4(self.conv4(x)))\n",
    "        x = self.relu(self.bn5(self.conv5(x)))\n",
    "        x = self.pool2(self.relu(self.bn6(self.conv6(x))))\n",
    "        x = x.view(-1, 256 * 8 * 8)\n",
    "        x = self.relu(self.dropout(self.fc1(x)))\n",
    "        x = self.relu(self.dropout(self.fc2(x)))\n",
    "        x = self.dropout(self.fc3(x))\n",
    "        return x\n",
    "        ################################################################################\n",
    "        #                                 END OF YOUR CODE                             #\n",
    "        ################################################################################"
   ]
  },
  {
   "cell_type": "code",
   "execution_count": 14,
   "metadata": {},
   "outputs": [
    {
     "ename": "RuntimeError",
     "evalue": "CUDA out of memory. Tried to allocate 64.00 MiB (GPU 0; 1.96 GiB total capacity; 711.44 MiB already allocated; 15.12 MiB free; 86.56 MiB cached)",
     "output_type": "error",
     "traceback": [
      "\u001b[0;31m---------------------------------------------------------------------------\u001b[0m",
      "\u001b[0;31mRuntimeError\u001b[0m                              Traceback (most recent call last)",
      "\u001b[0;32m<ipython-input-14-f3d9ecc1c480>\u001b[0m in \u001b[0;36m<module>\u001b[0;34m\u001b[0m\n\u001b[1;32m     57\u001b[0m             \u001b[0mx_val\u001b[0m \u001b[0;34m=\u001b[0m \u001b[0mx_val\u001b[0m\u001b[0;34m.\u001b[0m\u001b[0mto\u001b[0m\u001b[0;34m(\u001b[0m\u001b[0mdevice\u001b[0m\u001b[0;34m)\u001b[0m\u001b[0;34m\u001b[0m\u001b[0;34m\u001b[0m\u001b[0m\n\u001b[1;32m     58\u001b[0m             \u001b[0my_val\u001b[0m \u001b[0;34m=\u001b[0m \u001b[0my_val\u001b[0m\u001b[0;34m.\u001b[0m\u001b[0mto\u001b[0m\u001b[0;34m(\u001b[0m\u001b[0mdevice\u001b[0m\u001b[0;34m)\u001b[0m\u001b[0;34m\u001b[0m\u001b[0;34m\u001b[0m\u001b[0m\n\u001b[0;32m---> 59\u001b[0;31m             \u001b[0my_val_pred\u001b[0m \u001b[0;34m=\u001b[0m \u001b[0mmodel6m\u001b[0m\u001b[0;34m(\u001b[0m\u001b[0mx_val\u001b[0m\u001b[0;34m)\u001b[0m\u001b[0;34m\u001b[0m\u001b[0;34m\u001b[0m\u001b[0m\n\u001b[0m\u001b[1;32m     60\u001b[0m             \u001b[0mloss_val\u001b[0m \u001b[0;34m=\u001b[0m \u001b[0mcross_entropy\u001b[0m\u001b[0;34m(\u001b[0m\u001b[0my_val_pred\u001b[0m\u001b[0;34m,\u001b[0m \u001b[0my_val\u001b[0m\u001b[0;34m)\u001b[0m\u001b[0;34m\u001b[0m\u001b[0;34m\u001b[0m\u001b[0m\n\u001b[1;32m     61\u001b[0m \u001b[0;34m\u001b[0m\u001b[0m\n",
      "\u001b[0;32m~/.local/lib/python3.7/site-packages/torch/nn/modules/module.py\u001b[0m in \u001b[0;36m__call__\u001b[0;34m(self, *input, **kwargs)\u001b[0m\n\u001b[1;32m    545\u001b[0m             \u001b[0mresult\u001b[0m \u001b[0;34m=\u001b[0m \u001b[0mself\u001b[0m\u001b[0;34m.\u001b[0m\u001b[0m_slow_forward\u001b[0m\u001b[0;34m(\u001b[0m\u001b[0;34m*\u001b[0m\u001b[0minput\u001b[0m\u001b[0;34m,\u001b[0m \u001b[0;34m**\u001b[0m\u001b[0mkwargs\u001b[0m\u001b[0;34m)\u001b[0m\u001b[0;34m\u001b[0m\u001b[0;34m\u001b[0m\u001b[0m\n\u001b[1;32m    546\u001b[0m         \u001b[0;32melse\u001b[0m\u001b[0;34m:\u001b[0m\u001b[0;34m\u001b[0m\u001b[0;34m\u001b[0m\u001b[0m\n\u001b[0;32m--> 547\u001b[0;31m             \u001b[0mresult\u001b[0m \u001b[0;34m=\u001b[0m \u001b[0mself\u001b[0m\u001b[0;34m.\u001b[0m\u001b[0mforward\u001b[0m\u001b[0;34m(\u001b[0m\u001b[0;34m*\u001b[0m\u001b[0minput\u001b[0m\u001b[0;34m,\u001b[0m \u001b[0;34m**\u001b[0m\u001b[0mkwargs\u001b[0m\u001b[0;34m)\u001b[0m\u001b[0;34m\u001b[0m\u001b[0;34m\u001b[0m\u001b[0m\n\u001b[0m\u001b[1;32m    548\u001b[0m         \u001b[0;32mfor\u001b[0m \u001b[0mhook\u001b[0m \u001b[0;32min\u001b[0m \u001b[0mself\u001b[0m\u001b[0;34m.\u001b[0m\u001b[0m_forward_hooks\u001b[0m\u001b[0;34m.\u001b[0m\u001b[0mvalues\u001b[0m\u001b[0;34m(\u001b[0m\u001b[0;34m)\u001b[0m\u001b[0;34m:\u001b[0m\u001b[0;34m\u001b[0m\u001b[0;34m\u001b[0m\u001b[0m\n\u001b[1;32m    549\u001b[0m             \u001b[0mhook_result\u001b[0m \u001b[0;34m=\u001b[0m \u001b[0mhook\u001b[0m\u001b[0;34m(\u001b[0m\u001b[0mself\u001b[0m\u001b[0;34m,\u001b[0m \u001b[0minput\u001b[0m\u001b[0;34m,\u001b[0m \u001b[0mresult\u001b[0m\u001b[0;34m)\u001b[0m\u001b[0;34m\u001b[0m\u001b[0;34m\u001b[0m\u001b[0m\n",
      "\u001b[0;32m<ipython-input-13-bb16f7137627>\u001b[0m in \u001b[0;36mforward\u001b[0;34m(self, x)\u001b[0m\n\u001b[1;32m     58\u001b[0m         \u001b[0mx\u001b[0m \u001b[0;34m=\u001b[0m \u001b[0mself\u001b[0m\u001b[0;34m.\u001b[0m\u001b[0mrelu\u001b[0m\u001b[0;34m(\u001b[0m\u001b[0mself\u001b[0m\u001b[0;34m.\u001b[0m\u001b[0mbn1\u001b[0m\u001b[0;34m(\u001b[0m\u001b[0mself\u001b[0m\u001b[0;34m.\u001b[0m\u001b[0mconv1\u001b[0m\u001b[0;34m(\u001b[0m\u001b[0mx\u001b[0m\u001b[0;34m)\u001b[0m\u001b[0;34m)\u001b[0m\u001b[0;34m)\u001b[0m\u001b[0;34m\u001b[0m\u001b[0;34m\u001b[0m\u001b[0m\n\u001b[1;32m     59\u001b[0m         \u001b[0mx\u001b[0m \u001b[0;34m=\u001b[0m \u001b[0mself\u001b[0m\u001b[0;34m.\u001b[0m\u001b[0mrelu\u001b[0m\u001b[0;34m(\u001b[0m\u001b[0mself\u001b[0m\u001b[0;34m.\u001b[0m\u001b[0mbn2\u001b[0m\u001b[0;34m(\u001b[0m\u001b[0mself\u001b[0m\u001b[0;34m.\u001b[0m\u001b[0mconv2\u001b[0m\u001b[0;34m(\u001b[0m\u001b[0mx\u001b[0m\u001b[0;34m)\u001b[0m\u001b[0;34m)\u001b[0m\u001b[0;34m)\u001b[0m\u001b[0;34m\u001b[0m\u001b[0;34m\u001b[0m\u001b[0m\n\u001b[0;32m---> 60\u001b[0;31m         \u001b[0mx\u001b[0m \u001b[0;34m=\u001b[0m \u001b[0mself\u001b[0m\u001b[0;34m.\u001b[0m\u001b[0mpool1\u001b[0m\u001b[0;34m(\u001b[0m\u001b[0mself\u001b[0m\u001b[0;34m.\u001b[0m\u001b[0mrelu\u001b[0m\u001b[0;34m(\u001b[0m\u001b[0mself\u001b[0m\u001b[0;34m.\u001b[0m\u001b[0mbn3\u001b[0m\u001b[0;34m(\u001b[0m\u001b[0mself\u001b[0m\u001b[0;34m.\u001b[0m\u001b[0mconv3\u001b[0m\u001b[0;34m(\u001b[0m\u001b[0mx\u001b[0m\u001b[0;34m)\u001b[0m\u001b[0;34m)\u001b[0m\u001b[0;34m)\u001b[0m\u001b[0;34m)\u001b[0m\u001b[0;34m\u001b[0m\u001b[0;34m\u001b[0m\u001b[0m\n\u001b[0m\u001b[1;32m     61\u001b[0m         \u001b[0mx\u001b[0m \u001b[0;34m=\u001b[0m \u001b[0mself\u001b[0m\u001b[0;34m.\u001b[0m\u001b[0mrelu\u001b[0m\u001b[0;34m(\u001b[0m\u001b[0mself\u001b[0m\u001b[0;34m.\u001b[0m\u001b[0mbn4\u001b[0m\u001b[0;34m(\u001b[0m\u001b[0mself\u001b[0m\u001b[0;34m.\u001b[0m\u001b[0mconv4\u001b[0m\u001b[0;34m(\u001b[0m\u001b[0mx\u001b[0m\u001b[0;34m)\u001b[0m\u001b[0;34m)\u001b[0m\u001b[0;34m)\u001b[0m\u001b[0;34m\u001b[0m\u001b[0;34m\u001b[0m\u001b[0m\n\u001b[1;32m     62\u001b[0m         \u001b[0mx\u001b[0m \u001b[0;34m=\u001b[0m \u001b[0mself\u001b[0m\u001b[0;34m.\u001b[0m\u001b[0mrelu\u001b[0m\u001b[0;34m(\u001b[0m\u001b[0mself\u001b[0m\u001b[0;34m.\u001b[0m\u001b[0mbn5\u001b[0m\u001b[0;34m(\u001b[0m\u001b[0mself\u001b[0m\u001b[0;34m.\u001b[0m\u001b[0mconv5\u001b[0m\u001b[0;34m(\u001b[0m\u001b[0mx\u001b[0m\u001b[0;34m)\u001b[0m\u001b[0;34m)\u001b[0m\u001b[0;34m)\u001b[0m\u001b[0;34m\u001b[0m\u001b[0;34m\u001b[0m\u001b[0m\n",
      "\u001b[0;32m~/.local/lib/python3.7/site-packages/torch/nn/modules/module.py\u001b[0m in \u001b[0;36m__call__\u001b[0;34m(self, *input, **kwargs)\u001b[0m\n\u001b[1;32m    545\u001b[0m             \u001b[0mresult\u001b[0m \u001b[0;34m=\u001b[0m \u001b[0mself\u001b[0m\u001b[0;34m.\u001b[0m\u001b[0m_slow_forward\u001b[0m\u001b[0;34m(\u001b[0m\u001b[0;34m*\u001b[0m\u001b[0minput\u001b[0m\u001b[0;34m,\u001b[0m \u001b[0;34m**\u001b[0m\u001b[0mkwargs\u001b[0m\u001b[0;34m)\u001b[0m\u001b[0;34m\u001b[0m\u001b[0;34m\u001b[0m\u001b[0m\n\u001b[1;32m    546\u001b[0m         \u001b[0;32melse\u001b[0m\u001b[0;34m:\u001b[0m\u001b[0;34m\u001b[0m\u001b[0;34m\u001b[0m\u001b[0m\n\u001b[0;32m--> 547\u001b[0;31m             \u001b[0mresult\u001b[0m \u001b[0;34m=\u001b[0m \u001b[0mself\u001b[0m\u001b[0;34m.\u001b[0m\u001b[0mforward\u001b[0m\u001b[0;34m(\u001b[0m\u001b[0;34m*\u001b[0m\u001b[0minput\u001b[0m\u001b[0;34m,\u001b[0m \u001b[0;34m**\u001b[0m\u001b[0mkwargs\u001b[0m\u001b[0;34m)\u001b[0m\u001b[0;34m\u001b[0m\u001b[0;34m\u001b[0m\u001b[0m\n\u001b[0m\u001b[1;32m    548\u001b[0m         \u001b[0;32mfor\u001b[0m \u001b[0mhook\u001b[0m \u001b[0;32min\u001b[0m \u001b[0mself\u001b[0m\u001b[0;34m.\u001b[0m\u001b[0m_forward_hooks\u001b[0m\u001b[0;34m.\u001b[0m\u001b[0mvalues\u001b[0m\u001b[0;34m(\u001b[0m\u001b[0;34m)\u001b[0m\u001b[0;34m:\u001b[0m\u001b[0;34m\u001b[0m\u001b[0;34m\u001b[0m\u001b[0m\n\u001b[1;32m    549\u001b[0m             \u001b[0mhook_result\u001b[0m \u001b[0;34m=\u001b[0m \u001b[0mhook\u001b[0m\u001b[0;34m(\u001b[0m\u001b[0mself\u001b[0m\u001b[0;34m,\u001b[0m \u001b[0minput\u001b[0m\u001b[0;34m,\u001b[0m \u001b[0mresult\u001b[0m\u001b[0;34m)\u001b[0m\u001b[0;34m\u001b[0m\u001b[0;34m\u001b[0m\u001b[0m\n",
      "\u001b[0;32m~/.local/lib/python3.7/site-packages/torch/nn/modules/batchnorm.py\u001b[0m in \u001b[0;36mforward\u001b[0;34m(self, input)\u001b[0m\n\u001b[1;32m     79\u001b[0m             \u001b[0minput\u001b[0m\u001b[0;34m,\u001b[0m \u001b[0mself\u001b[0m\u001b[0;34m.\u001b[0m\u001b[0mrunning_mean\u001b[0m\u001b[0;34m,\u001b[0m \u001b[0mself\u001b[0m\u001b[0;34m.\u001b[0m\u001b[0mrunning_var\u001b[0m\u001b[0;34m,\u001b[0m \u001b[0mself\u001b[0m\u001b[0;34m.\u001b[0m\u001b[0mweight\u001b[0m\u001b[0;34m,\u001b[0m \u001b[0mself\u001b[0m\u001b[0;34m.\u001b[0m\u001b[0mbias\u001b[0m\u001b[0;34m,\u001b[0m\u001b[0;34m\u001b[0m\u001b[0;34m\u001b[0m\u001b[0m\n\u001b[1;32m     80\u001b[0m             \u001b[0mself\u001b[0m\u001b[0;34m.\u001b[0m\u001b[0mtraining\u001b[0m \u001b[0;32mor\u001b[0m \u001b[0;32mnot\u001b[0m \u001b[0mself\u001b[0m\u001b[0;34m.\u001b[0m\u001b[0mtrack_running_stats\u001b[0m\u001b[0;34m,\u001b[0m\u001b[0;34m\u001b[0m\u001b[0;34m\u001b[0m\u001b[0m\n\u001b[0;32m---> 81\u001b[0;31m             exponential_average_factor, self.eps)\n\u001b[0m\u001b[1;32m     82\u001b[0m \u001b[0;34m\u001b[0m\u001b[0m\n\u001b[1;32m     83\u001b[0m     \u001b[0;32mdef\u001b[0m \u001b[0mextra_repr\u001b[0m\u001b[0;34m(\u001b[0m\u001b[0mself\u001b[0m\u001b[0;34m)\u001b[0m\u001b[0;34m:\u001b[0m\u001b[0;34m\u001b[0m\u001b[0;34m\u001b[0m\u001b[0m\n",
      "\u001b[0;32m~/.local/lib/python3.7/site-packages/torch/nn/functional.py\u001b[0m in \u001b[0;36mbatch_norm\u001b[0;34m(input, running_mean, running_var, weight, bias, training, momentum, eps)\u001b[0m\n\u001b[1;32m   1654\u001b[0m     return torch.batch_norm(\n\u001b[1;32m   1655\u001b[0m         \u001b[0minput\u001b[0m\u001b[0;34m,\u001b[0m \u001b[0mweight\u001b[0m\u001b[0;34m,\u001b[0m \u001b[0mbias\u001b[0m\u001b[0;34m,\u001b[0m \u001b[0mrunning_mean\u001b[0m\u001b[0;34m,\u001b[0m \u001b[0mrunning_var\u001b[0m\u001b[0;34m,\u001b[0m\u001b[0;34m\u001b[0m\u001b[0;34m\u001b[0m\u001b[0m\n\u001b[0;32m-> 1656\u001b[0;31m         \u001b[0mtraining\u001b[0m\u001b[0;34m,\u001b[0m \u001b[0mmomentum\u001b[0m\u001b[0;34m,\u001b[0m \u001b[0meps\u001b[0m\u001b[0;34m,\u001b[0m \u001b[0mtorch\u001b[0m\u001b[0;34m.\u001b[0m\u001b[0mbackends\u001b[0m\u001b[0;34m.\u001b[0m\u001b[0mcudnn\u001b[0m\u001b[0;34m.\u001b[0m\u001b[0menabled\u001b[0m\u001b[0;34m\u001b[0m\u001b[0;34m\u001b[0m\u001b[0m\n\u001b[0m\u001b[1;32m   1657\u001b[0m     )\n\u001b[1;32m   1658\u001b[0m \u001b[0;34m\u001b[0m\u001b[0m\n",
      "\u001b[0;31mRuntimeError\u001b[0m: CUDA out of memory. Tried to allocate 64.00 MiB (GPU 0; 1.96 GiB total capacity; 711.44 MiB already allocated; 15.12 MiB free; 86.56 MiB cached)"
     ]
    }
   ],
   "source": [
    "# Run modified 6 layer CNN. WARNING, takes a few hours to run.\n",
    "torch.cuda.empty_cache()\n",
    "epoch = 12\n",
    "lr = 1e-2\n",
    "n_input = 3072\n",
    "n_classes = 10\n",
    "batch_size = 64\n",
    "num_workers = num_workers\n",
    "\n",
    "train_loader = torch.utils.data.DataLoader(reduced_trainset, batch_size=64, shuffle=True, num_workers=4)\n",
    "test_loader = torch.utils.data.DataLoader(testset, batch_size=100, shuffle=False, num_workers=4)\n",
    "val_loader = torch.utils.data.DataLoader(valset, batch_size=64, shuffle=True, num_workers=4)\n",
    "\n",
    "################################################################################\n",
    "# TODO:                                                                        #\n",
    "# Your training code here.                                                     #\n",
    "################################################################################\n",
    "model6m = CNNClassifier_6_modified(n_input, n_classes)\n",
    "model6m.to(device)\n",
    "\n",
    "# Initialize weights with Kaiming, just curious to try. It's not very deep so shouldn't have impact.:\n",
    "def init_weights_kaiming(m):\n",
    "    if type(m) == nn.Linear:\n",
    "        torch.nn.init.kaiming_normal_(m.weight)\n",
    "        \n",
    "model6m.apply(init_weights_kaiming)\n",
    "\n",
    "optim = torch.optim.SGD(model6m.parameters(), lr=lr, momentum=0.8)\n",
    "cross_entropy = nn.CrossEntropyLoss(reduction='mean')\n",
    "\n",
    "loss_hist_train = []\n",
    "loss_hist_val = []\n",
    "val_loader_iterator = iter(val_loader)\n",
    "    \n",
    "for e in range(epoch):\n",
    "    loss_epoch = 0\n",
    "    loss_val_epoch = 0\n",
    "\n",
    "    for x, y in train_loader:\n",
    "        x = x.to(device)\n",
    "        y = y.to(device)\n",
    "        y_pred = model6m(x)\n",
    "        \n",
    "        loss = cross_entropy(y_pred, y)\n",
    "        \n",
    "        # This section is just to test against validation set. We don't need to keep track of gradients here.\n",
    "        with torch.no_grad():\n",
    "            try:\n",
    "                x_val, y_val = next(val_loader_iterator)\n",
    "            except StopIteration:\n",
    "                # Validation set is smaller than training set so we'll run out of batches faster, reinstantiate\n",
    "                # if we do.\n",
    "                val_loader_iterator = iter(val_loader)\n",
    "                x_val, y_val = next(val_loader_iterator)\n",
    "                \n",
    "            # Just make a prediction with the validation x and y and get the loss\n",
    "            x_val = x_val.to(device)\n",
    "            y_val = y_val.to(device)\n",
    "            y_val_pred = model6m(x_val)\n",
    "            loss_val = cross_entropy(y_val_pred, y_val)\n",
    "        \n",
    "        optim.zero_grad()\n",
    "        loss.backward()\n",
    "        optim.step()\n",
    "\n",
    "        loss_epoch += loss.item()\n",
    "        loss_val_epoch += loss_val.item()\n",
    "\n",
    "    loss_hist_val.append(loss_val_epoch)\n",
    "    loss_hist_train.append(loss_epoch)\n",
    "    print(f'Epcoh {e}: {loss_epoch}')\n",
    "\n",
    "plt.plot(loss_hist_train)\n",
    "plt.plot(loss_hist_val)\n",
    "plt.legend(['Training Loss', 'Validation Loss'], loc='upper right')\n",
    "\n",
    "################################################################################\n",
    "#                                 END OF YOUR CODE                             #\n",
    "################################################################################"
   ]
  },
  {
   "cell_type": "code",
   "execution_count": null,
   "metadata": {},
   "outputs": [],
   "source": [
    "# Evaluate 6 layer modified CNN, with fewer pooling layers\n",
    "model6m.eval()\n",
    "train_acc = get_model_acc(model6m, train_loader)\n",
    "test_acc = get_model_acc(model6m, test_loader)\n",
    "print(f'Training accuracy: {train_acc}, Testing accuracy: {test_acc}')"
   ]
  },
  {
   "cell_type": "code",
   "execution_count": 47,
   "metadata": {},
   "outputs": [
    {
     "data": {
      "text/plain": [
       "[<matplotlib.lines.Line2D at 0x7f86409e5550>]"
      ]
     },
     "execution_count": 47,
     "metadata": {},
     "output_type": "execute_result"
    },
    {
     "data": {
      "image/png": "[encoded data removed]",
      "text/plain": [
       "<Figure size 432x288 with 1 Axes>"
      ]
     },
     "metadata": {
      "needs_background": "light"
     },
     "output_type": "display_data"
    }
   ],
   "source": [
    "# Ok, let's plot the test accuracy over the depth of the neural network \n",
    "plt.plot([2,4,6],test_acc_depth)"
   ]
  },
  {
   "cell_type": "markdown",
   "metadata": {},
   "source": [
    "<span style=\"color:red\">**Briefly explain what you have observed in three or four sentences. Does stacking layers always give you better results? How about the computational time?:**</span>"
   ]
  },
  {
   "cell_type": "markdown",
   "metadata": {},
   "source": [
    "<strong>Answer:</strong>\n",
    "Stacking layers makes it take longer to train. After a certain point it doesn't necessarily give better results until we perform batch norm on the network. I also noticed that when using fewer pooling layers (2 as opposed to 6) it takes even longer to train. Currently with 6 conv layers, batch norm and dropout we're getting around 81% accuracy."
   ]
  },
  {
   "cell_type": "markdown",
   "metadata": {},
   "source": [
    "### 2.2.3 Optimizer? Optimizer! [10 pts]\n",
    "So far, we only use SGD as our optimizer. Now, pick two other optimizers, train your CNN models, and compare the performance you get. What did you see?"
   ]
  },
  {
   "cell_type": "code",
   "execution_count": 62,
   "metadata": {},
   "outputs": [
    {
     "name": "stdout",
     "output_type": "stream",
     "text": [
      "Epcoh 0: 1008.6534453630447\n",
      "Epcoh 1: 736.4605672359467\n",
      "Epcoh 2: 617.3161231279373\n",
      "Epcoh 3: 539.9106099009514\n",
      "Epcoh 4: 479.1007621884346\n",
      "Epcoh 5: 424.50288850069046\n",
      "Epcoh 6: 374.3410021662712\n",
      "Epcoh 7: 326.8515087366104\n"
     ]
    },
    {
     "data": {
      "text/plain": [
       "<matplotlib.legend.Legend at 0x7f8629dd5f90>"
      ]
     },
     "execution_count": 62,
     "metadata": {},
     "output_type": "execute_result"
    },
    {
     "data": {
      "image/png": "[encoded data removed]",
      "text/plain": [
       "<Figure size 432x288 with 1 Axes>"
      ]
     },
     "metadata": {
      "needs_background": "light"
     },
     "output_type": "display_data"
    }
   ],
   "source": [
    "################################################################################\n",
    "# TODO:                                                                        #\n",
    "# Your training code here.                                                     #\n",
    "################################################################################\n",
    "\n",
    "# Reuse our batch-normed 6 layer CNN class. Try different optimizers. First let's try Adagrad\n",
    "torch.cuda.empty_cache()\n",
    "epoch = 8\n",
    "lr = 1e-3\n",
    "n_input = 3072\n",
    "n_classes = 10\n",
    "batch_size = 64\n",
    "num_workers = num_workers\n",
    "\n",
    "train_loader = torch.utils.data.DataLoader(reduced_trainset, batch_size=64, shuffle=True, num_workers=4)\n",
    "test_loader = torch.utils.data.DataLoader(testset, batch_size=100, shuffle=False, num_workers=4)\n",
    "val_loader = torch.utils.data.DataLoader(valset, batch_size=64, shuffle=True, num_workers=4)\n",
    "\n",
    "model6_adagrad = CNNClassifier_6_batchnorm(n_input, n_classes)\n",
    "model6_adagrad.to(device)\n",
    "\n",
    "# Initialize weights with Kaiming, just curious to try. It's not very deep so shouldn't have impact.:\n",
    "def init_weights_kaiming(m):\n",
    "    if type(m) == nn.Linear:\n",
    "        torch.nn.init.kaiming_normal_(m.weight)\n",
    "        \n",
    "model6_adagrad.apply(init_weights_kaiming)\n",
    "\n",
    "optim = torch.optim.Adagrad(model6_adagrad.parameters(), lr=lr, weight_decay=0.1)\n",
    "cross_entropy = nn.CrossEntropyLoss(reduction='mean')\n",
    "\n",
    "loss_hist_train = []\n",
    "loss_hist_val = []\n",
    "val_loader_iterator = iter(val_loader)\n",
    "    \n",
    "for e in range(epoch):\n",
    "    loss_epoch = 0\n",
    "    loss_val_epoch = 0\n",
    "\n",
    "    for x, y in train_loader:\n",
    "        x = x.to(device)\n",
    "        y = y.to(device)\n",
    "        y_pred = y_pred.to(device)\n",
    "        y_pred = model6_adagrad(x)\n",
    "        \n",
    "        loss = cross_entropy(y_pred, y)\n",
    "        \n",
    "        # This section is just to test against validation set. We don't need to keep track of gradients here.\n",
    "        with torch.no_grad():\n",
    "            try:\n",
    "                x_val, y_val = next(val_loader_iterator)\n",
    "            except StopIteration:\n",
    "                # Validation set is smaller than training set so we'll run out of batches faster, reinstantiate\n",
    "                # if we do.\n",
    "                val_loader_iterator = iter(val_loader)\n",
    "                x_val, y_val = next(val_loader_iterator)\n",
    "                \n",
    "            # Just make a prediction with the validation x and y and get the loss\n",
    "            x_val = x_val.to(device)\n",
    "            y_val = y_val.to(device)\n",
    "            y_val_pred = model6_adagrad(x_val)\n",
    "            loss_val = cross_entropy(y_val_pred, y_val)\n",
    "        \n",
    "        optim.zero_grad()\n",
    "        loss.backward()\n",
    "        optim.step()\n",
    "\n",
    "        loss_epoch += loss.item()\n",
    "        loss_val_epoch += loss_val.item()\n",
    "\n",
    "    loss_hist_val.append(loss_val_epoch)\n",
    "    loss_hist_train.append(loss_epoch)\n",
    "    print(f'Epcoh {e}: {loss_epoch}')\n",
    "\n",
    "plt.plot(loss_hist_train)\n",
    "plt.plot(loss_hist_val)\n",
    "plt.legend(['Training Loss', 'Validation Loss'], loc='upper right')\n",
    "\n",
    "################################################################################\n",
    "#                                 END OF YOUR CODE                             #\n",
    "################################################################################"
   ]
  },
  {
   "cell_type": "code",
   "execution_count": 63,
   "metadata": {},
   "outputs": [
    {
     "name": "stdout",
     "output_type": "stream",
     "text": [
      "tensor(35438, device='cuda:0')\n",
      "tensor(7460, device='cuda:0')\n",
      "Training accuracy: 88.5949935913086, Testing accuracy: 74.5999984741211\n"
     ]
    }
   ],
   "source": [
    "# Evaluate Adagrad\n",
    "model6_adagrad.eval()\n",
    "train_acc = get_model_acc(model6_adagrad, train_loader)\n",
    "test_acc = get_model_acc(model6_adagrad, test_loader)\n",
    "print(f'Training accuracy: {train_acc}, Testing accuracy: {test_acc}')"
   ]
  },
  {
   "cell_type": "code",
   "execution_count": 64,
   "metadata": {},
   "outputs": [
    {
     "name": "stdout",
     "output_type": "stream",
     "text": [
      "Epcoh 0: 1087.7977675199509\n",
      "Epcoh 1: 799.6458924412727\n",
      "Epcoh 2: 671.1942526698112\n",
      "Epcoh 3: 590.1090431213379\n",
      "Epcoh 4: 532.9777426123619\n",
      "Epcoh 5: 474.87821385264397\n",
      "Epcoh 6: 439.16869965195656\n",
      "Epcoh 7: 404.88590720295906\n",
      "Epcoh 8: 374.1950960755348\n",
      "Epcoh 9: 337.909188836813\n"
     ]
    },
    {
     "data": {
      "text/plain": [
       "<matplotlib.legend.Legend at 0x7f8629cda610>"
      ]
     },
     "execution_count": 64,
     "metadata": {},
     "output_type": "execute_result"
    },
    {
     "data": {
      "image/png": "[encoded data removed]",
      "text/plain": [
       "<Figure size 432x288 with 1 Axes>"
      ]
     },
     "metadata": {
      "needs_background": "light"
     },
     "output_type": "display_data"
    }
   ],
   "source": [
    "################################################################################\n",
    "# TODO:                                                                        #\n",
    "# Your training code here.                                                     #\n",
    "################################################################################\n",
    "\n",
    "# Reuse our modified 6 layer CNN class. Try different optimizers. Next, let's try nesterov momentum!\n",
    "\n",
    "epoch = 10\n",
    "lr = 1e-2\n",
    "n_input = 3072\n",
    "n_classes = 10\n",
    "batch_size = 64\n",
    "num_workers = num_workers\n",
    "\n",
    "train_loader = torch.utils.data.DataLoader(reduced_trainset, batch_size=64, shuffle=True, num_workers=4)\n",
    "test_loader = torch.utils.data.DataLoader(testset, batch_size=100, shuffle=False, num_workers=4)\n",
    "val_loader = torch.utils.data.DataLoader(valset, batch_size=64, shuffle=True, num_workers=4)\n",
    "\n",
    "model6_nesterov = CNNClassifier_6_batchnorm(n_input, n_classes)\n",
    "model6_nesterov.to(device)\n",
    "\n",
    "# Initialize weights with Kaiming, just curious to try. It's not very deep so shouldn't have impact.:\n",
    "def init_weights_kaiming(m):\n",
    "    if type(m) == nn.Linear:\n",
    "        torch.nn.init.kaiming_normal_(m.weight)\n",
    "        \n",
    "model6_nesterov.apply(init_weights_kaiming)\n",
    "\n",
    "optim = torch.optim.SGD(model6_nesterov.parameters(), lr=lr, momentum=0.8, nesterov=True)\n",
    "cross_entropy = nn.CrossEntropyLoss(reduction='mean')\n",
    "\n",
    "loss_hist_train = []\n",
    "loss_hist_val = []\n",
    "val_loader_iterator = iter(val_loader)\n",
    "    \n",
    "for e in range(epoch):\n",
    "    loss_epoch = 0\n",
    "    loss_val_epoch = 0\n",
    "\n",
    "    for x, y in train_loader:\n",
    "        x = x.to(device)\n",
    "        y = y.to(device)\n",
    "        y_pred = y_pred.to(device)\n",
    "        y_pred = model6_nesterov(x)\n",
    "        \n",
    "        loss = cross_entropy(y_pred, y)\n",
    "        \n",
    "        # This section is just to test against validation set. We don't need to keep track of gradients here.\n",
    "        with torch.no_grad():\n",
    "            try:\n",
    "                x_val, y_val = next(val_loader_iterator)\n",
    "            except StopIteration:\n",
    "                # Validation set is smaller than training set so we'll run out of batches faster, reinstantiate\n",
    "                # if we do.\n",
    "                val_loader_iterator = iter(val_loader)\n",
    "                x_val, y_val = next(val_loader_iterator)\n",
    "                \n",
    "            # Just make a prediction with the validation x and y and get the loss\n",
    "            x_val = x_val.to(device)\n",
    "            y_val = y_val.to(device)\n",
    "            y_val_pred = model6_nesterov(x_val)\n",
    "            loss_val = cross_entropy(y_val_pred, y_val)\n",
    "        \n",
    "        optim.zero_grad()\n",
    "        loss.backward()\n",
    "        optim.step()\n",
    "\n",
    "        loss_epoch += loss.item()\n",
    "        loss_val_epoch += loss_val.item()\n",
    "\n",
    "    loss_hist_val.append(loss_val_epoch)\n",
    "    loss_hist_train.append(loss_epoch)\n",
    "    print(f'Epcoh {e}: {loss_epoch}')\n",
    "\n",
    "plt.plot(loss_hist_train)\n",
    "plt.plot(loss_hist_val)\n",
    "plt.legend(['Training Loss', 'Validation Loss'], loc='upper right')\n",
    "\n",
    "################################################################################\n",
    "#                                 END OF YOUR CODE                             #\n",
    "################################################################################"
   ]
  },
  {
   "cell_type": "code",
   "execution_count": 65,
   "metadata": {},
   "outputs": [
    {
     "name": "stdout",
     "output_type": "stream",
     "text": [
      "tensor(35634, device='cuda:0')\n",
      "tensor(7865, device='cuda:0')\n",
      "Training accuracy: 89.08499145507812, Testing accuracy: 78.64999389648438\n"
     ]
    }
   ],
   "source": [
    "# Evaluate nesterov momentum\n",
    "model6_nesterov.eval()\n",
    "train_acc = get_model_acc(model6_nesterov, train_loader)\n",
    "test_acc = get_model_acc(model6_nesterov, test_loader)\n",
    "print(f'Training accuracy: {train_acc}, Testing accuracy: {test_acc}')"
   ]
  },
  {
   "cell_type": "markdown",
   "metadata": {},
   "source": [
    "<span style=\"color:red\">**What did you see? Which optimizer is your favorite? Describe:**</span>"
   ]
  },
  {
   "cell_type": "markdown",
   "metadata": {},
   "source": [
    "<strong>Answer:</strong>\n",
    "I tried SGD with nesterov momentum and Adagrad. Adagrad requires a lower learning rate of 1e-3 than SGD with momentum which decreases very fast with a relatively high learning rate of 1e-2."
   ]
  },
  {
   "cell_type": "markdown",
   "metadata": {},
   "source": [
    "### 2.2.4 Improve Your Model [10 pts]\n",
    "Again, we want you to play with your model a bit harder, and improve it. You are free to use everything you can find in the documents (`BatchNorm`, `SeLU`, etc), as long as it is not a **predefined network architectures in PyTorch package**. You can also implement some famous network architectures to push the performance. \n",
    "\n",
    "(A simple network with 5-6 `nn.Conv2d` can give you at least 70% accuracy on testing set)."
   ]
  },
  {
   "cell_type": "code",
   "execution_count": 69,
   "metadata": {},
   "outputs": [],
   "source": [
    "# I wanted to try Alexnet or VGG16, then realized it takes days to train...let's just reuse and tweak our\n",
    "# previous 6 layer conv net.\n",
    "\n",
    "class CNNClassifier_6_final(nn.Module):\n",
    "    \n",
    "    def __init__(self, n_input, n_classes):\n",
    "        super().__init__()\n",
    "        ################################################################################\n",
    "        # TODO:                                                                        #\n",
    "        # Construct a CNN with 2 or 3 convolutional layers and 1 linear layer for      #\n",
    "        # outputing class prediction. You are free to pick the hyperparameters         #\n",
    "        ################################################################################\n",
    "        hidden_layer_size = 1024\n",
    "        \n",
    "        # In channels = 3 because of RGB, let's try similar to VGG and Alex where we use fewer filters first.\n",
    "        \n",
    "        self.conv1 = nn.Conv2d(in_channels=3, out_channels=64, kernel_size=3, padding=1)\n",
    "        self.bn1   = nn.BatchNorm2d(64)\n",
    "        self.pool1 = nn.MaxPool2d(kernel_size=2, stride=2)\n",
    "        \n",
    "        self.conv2 = nn.Conv2d(in_channels=64, out_channels=64, kernel_size=3, padding=1)\n",
    "        self.bn2   = nn.BatchNorm2d(64)\n",
    "        self.pool2 = nn.MaxPool2d(kernel_size=2, stride=1)\n",
    "        \n",
    "        self.conv3 = nn.Conv2d(in_channels=64, out_channels=128, kernel_size=3, padding=1)\n",
    "        self.bn3   = nn.BatchNorm2d(128)\n",
    "        self.pool3 = nn.MaxPool2d(kernel_size=2, stride=2) \n",
    "\n",
    "        self.conv4 = nn.Conv2d(in_channels=128, out_channels=128, kernel_size=3, padding=1)\n",
    "        self.bn4   = nn.BatchNorm2d(128)\n",
    "        self.pool4 = nn.MaxPool2d(kernel_size=2, stride=1)\n",
    "            \n",
    "        self.conv5 = nn.Conv2d(in_channels=128, out_channels=256, kernel_size=3, padding=1)\n",
    "        self.bn5   = nn.BatchNorm2d(256)\n",
    "        self.pool5 = nn.MaxPool2d(kernel_size=2, stride=2)\n",
    "        \n",
    "        self.conv6 = nn.Conv2d(in_channels=256, out_channels=512, kernel_size=3, padding=1)\n",
    "        self.bn6   = nn.BatchNorm2d(512)\n",
    "        self.pool6 = nn.MaxPool2d(kernel_size=2, stride=1)    \n",
    "        \n",
    "        self.fc1 = nn.Linear(512 * 2 * 2, hidden_layer_size)\n",
    "        self.fc2 = nn.Linear(hidden_layer_size, hidden_layer_size//2)\n",
    "        self.fc3 = nn.Linear(hidden_layer_size//2, n_classes)    \n",
    "    \n",
    "        self.dropout = nn.Dropout(p=0.2)\n",
    "        self.relu = nn.ReLU()\n",
    "        \n",
    "        ################################################################################\n",
    "        #                                 END OF YOUR CODE                             #\n",
    "        ################################################################################\n",
    "        \n",
    "        \n",
    "    def forward(self, x):\n",
    "        ################################################################################\n",
    "        # TODO:                                                                        #\n",
    "        # Forward pass of your network. First extract feature with CNN, and predict    #\n",
    "        # class scores with linear layer. Be careful about your input/output shape.    #\n",
    "        ################################################################################\n",
    "#         import pdb; pdb.set_trace()\n",
    "        x = self.pool1(self.relu(self.bn1(self.conv1(x))))\n",
    "        x = self.pool2(self.relu(self.bn2(self.conv2(x))))\n",
    "        x = self.pool3(self.relu(self.bn3(self.conv3(x))))\n",
    "        x = self.pool4(self.relu(self.bn4(self.conv4(x))))\n",
    "        x = self.pool5(self.relu(self.bn5(self.conv5(x))))\n",
    "        x = self.pool6(self.relu(self.bn6(self.conv6(x))))\n",
    "        \n",
    "        x = x.view(-1, 512 * 2 * 2)\n",
    "        x = self.relu(self.dropout(self.fc1(x)))\n",
    "        x = self.relu(self.dropout(self.fc2(x)))\n",
    "        x = self.dropout(self.fc3(x))\n",
    "        return x\n",
    "        ################################################################################\n",
    "        #                                 END OF YOUR CODE                             #\n",
    "        ################################################################################"
   ]
  },
  {
   "cell_type": "code",
   "execution_count": 76,
   "metadata": {},
   "outputs": [
    {
     "name": "stdout",
     "output_type": "stream",
     "text": [
      "Epcoh 0: 1069.9016573429108\n",
      "Epcoh 1: 781.510619521141\n",
      "Epcoh 2: 657.6503812074661\n",
      "Epcoh 3: 579.0636982321739\n",
      "Epcoh 4: 521.2483074963093\n",
      "Epcoh 5: 477.79036316275597\n",
      "Epcoh 6: 440.99518167972565\n",
      "Epcoh 7: 406.2475917041302\n",
      "Epcoh 8: 375.75778406858444\n",
      "Epcoh 9: 345.38573828339577\n"
     ]
    },
    {
     "data": {
      "text/plain": [
       "<matplotlib.legend.Legend at 0x7f8629c03dd0>"
      ]
     },
     "execution_count": 76,
     "metadata": {},
     "output_type": "execute_result"
    },
    {
     "data": {
      "image/png": "[encoded data removed]",
      "text/plain": [
       "<Figure size 432x288 with 1 Axes>"
      ]
     },
     "metadata": {
      "needs_background": "light"
     },
     "output_type": "display_data"
    }
   ],
   "source": [
    "# Run our finalized 6 layer CNN. Might take a long time to run.\n",
    "\n",
    "epoch = 10\n",
    "lr = 1e-2\n",
    "n_input = 3072\n",
    "n_classes = 10\n",
    "batch_size = 64\n",
    "num_workers = num_workers\n",
    "\n",
    "train_loader = torch.utils.data.DataLoader(reduced_trainset, batch_size=64, shuffle=True, num_workers=4)\n",
    "test_loader = torch.utils.data.DataLoader(testset, batch_size=100, shuffle=False, num_workers=4)\n",
    "val_loader = torch.utils.data.DataLoader(valset, batch_size=64, shuffle=True, num_workers=4)\n",
    "\n",
    "################################################################################\n",
    "# TODO:                                                                        #\n",
    "# Your training code here.                                                     #\n",
    "################################################################################\n",
    "model6f = CNNClassifier_6_final(n_input, n_classes)\n",
    "model6f.cuda()\n",
    "\n",
    "# Initialize weights with Kaiming, just curious to try. It's not very deep so shouldn't have impact.:\n",
    "def init_weights_kaiming(m):\n",
    "    if type(m) == nn.Linear:\n",
    "        torch.nn.init.kaiming_normal_(m.weight)\n",
    "        \n",
    "model6f.apply(init_weights_kaiming)\n",
    "\n",
    "optim = torch.optim.SGD(model6f.parameters(), lr=lr, momentum=0.8, nesterov=True)\n",
    "cross_entropy = nn.CrossEntropyLoss(reduction='mean')\n",
    "\n",
    "loss_hist_train = []\n",
    "loss_hist_val = []\n",
    "val_loader_iterator = iter(val_loader)\n",
    "    \n",
    "for e in range(epoch):\n",
    "    loss_epoch = 0\n",
    "    loss_val_epoch = 0\n",
    "\n",
    "    for x, y in train_loader:\n",
    "        x = x.to(device)\n",
    "        y = y.to(device)\n",
    "        y_pred = y_pred.to(device)\n",
    "\n",
    "        y_pred = model6f(x)\n",
    "        \n",
    "        loss = cross_entropy(y_pred, y)\n",
    "        \n",
    "        # This section is just to test against validation set. We don't need to keep track of gradients here.\n",
    "        with torch.no_grad():\n",
    "            try:\n",
    "                x_val, y_val = next(val_loader_iterator)\n",
    "            except StopIteration:\n",
    "                # Validation set is smaller than training set so we'll run out of batches faster, reinstantiate\n",
    "                # if we do.\n",
    "                val_loader_iterator = iter(val_loader)\n",
    "                x_val, y_val = next(val_loader_iterator)\n",
    "                \n",
    "            # Just make a prediction with the validation x and y and get the loss\n",
    "            x_val = x_val.to(device)\n",
    "            y_val = y_val.to(device)\n",
    "            y_val_pred = model6f(x_val)\n",
    "            loss_val = cross_entropy(y_val_pred, y_val)\n",
    "        \n",
    "        optim.zero_grad()\n",
    "        loss.backward()\n",
    "        optim.step()\n",
    "\n",
    "        loss_epoch += loss.item()\n",
    "        loss_val_epoch += loss_val.item()\n",
    "\n",
    "    loss_hist_val.append(loss_val_epoch)\n",
    "    loss_hist_train.append(loss_epoch)\n",
    "    print(f'Epcoh {e}: {loss_epoch}')\n",
    "\n",
    "plt.plot(loss_hist_train)\n",
    "plt.plot(loss_hist_val)\n",
    "plt.legend(['Training Loss', 'Validation Loss'], loc='upper right')\n",
    "\n",
    "################################################################################\n",
    "#                                 END OF YOUR CODE                             #\n",
    "################################################################################"
   ]
  },
  {
   "cell_type": "code",
   "execution_count": 77,
   "metadata": {},
   "outputs": [
    {
     "name": "stdout",
     "output_type": "stream",
     "text": [
      "tensor(36690, device='cuda:0')\n",
      "tensor(8064, device='cuda:0')\n",
      "Training accuracy: 91.7249984741211, Testing accuracy: 80.63999938964844\n"
     ]
    }
   ],
   "source": [
    "# Evaluate final\n",
    "model6f.eval()\n",
    "train_acc = get_model_acc(model6f, train_loader)\n",
    "test_acc = get_model_acc(model6f, test_loader)\n",
    "print(f'Training accuracy: {train_acc}, Testing accuracy: {test_acc}')"
   ]
  },
  {
   "cell_type": "code",
   "execution_count": null,
   "metadata": {},
   "outputs": [],
   "source": []
  }
 ],
 "metadata": {
  "kernelspec": {
   "display_name": "Python 3",
   "language": "python",
   "name": "python3"
  },
  "language_info": {
   "codemirror_mode": {
    "name": "ipython",
    "version": 3
   },
   "file_extension": ".py",
   "mimetype": "text/x-python",
   "name": "python",
   "nbconvert_exporter": "python",
   "pygments_lexer": "ipython3",
   "version": "3.7.4"
  }
 },
 "nbformat": 4,
 "nbformat_minor": 1
}
